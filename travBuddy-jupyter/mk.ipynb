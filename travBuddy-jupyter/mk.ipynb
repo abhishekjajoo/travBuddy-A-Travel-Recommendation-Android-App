{
 "cells": [
  {
   "cell_type": "code",
   "execution_count": 1,
   "id": "06576718",
   "metadata": {},
   "outputs": [],
   "source": [
    "import numpy as np\n",
    "import pandas as pd"
   ]
  },
  {
   "cell_type": "code",
   "execution_count": 2,
   "id": "1c0624fe",
   "metadata": {},
   "outputs": [
    {
     "name": "stdout",
     "output_type": "stream",
     "text": [
      "Requirement already satisfied: pandas in e:\\set_install\\python_installation\\lib\\site-packages (1.4.1)\n",
      "Requirement already satisfied: pytz>=2020.1 in e:\\set_install\\python_installation\\lib\\site-packages (from pandas) (2022.1)\n",
      "Requirement already satisfied: numpy>=1.21.0 in e:\\set_install\\python_installation\\lib\\site-packages (from pandas) (1.22.3)\n",
      "Requirement already satisfied: python-dateutil>=2.8.1 in e:\\set_install\\python_installation\\lib\\site-packages (from pandas) (2.8.2)\n",
      "Requirement already satisfied: six>=1.5 in e:\\set_install\\python_installation\\lib\\site-packages (from python-dateutil>=2.8.1->pandas) (1.16.0)\n",
      "Note: you may need to restart the kernel to use updated packages.\n"
     ]
    }
   ],
   "source": [
    "pip install pandas"
   ]
  },
  {
   "cell_type": "code",
   "execution_count": 3,
   "id": "773a1c7c",
   "metadata": {},
   "outputs": [
    {
     "name": "stdout",
     "output_type": "stream",
     "text": [
      "Requirement already satisfied: numpy in e:\\set_install\\python_installation\\lib\\site-packages (1.22.3)\n",
      "Note: you may need to restart the kernel to use updated packages.\n"
     ]
    }
   ],
   "source": [
    "pip install numpy"
   ]
  },
  {
   "cell_type": "code",
   "execution_count": 4,
   "id": "33bdf445",
   "metadata": {},
   "outputs": [],
   "source": [
    "import numpy as np\n",
    "import pandas as pd"
   ]
  },
  {
   "cell_type": "code",
   "execution_count": 5,
   "id": "0463cbba",
   "metadata": {},
   "outputs": [],
   "source": [
    "place =pd.read_csv(\"places.csv\")\n",
    "type=pd.read_csv(\"types.csv\")"
   ]
  },
  {
   "cell_type": "code",
   "execution_count": 6,
   "id": "107ebda5",
   "metadata": {},
   "outputs": [
    {
     "data": {
      "text/plain": [
       "<bound method NDFrame.head of       PID                                 POIs   LATITUDE  LONGITUDE IN-TIME1  \\\n",
       "0    POI1                         AMBER PALACE  26.985487  75.851345    10:00   \n",
       "1    POI2                   CITY PALACE JAIPUR  26.925771  75.823658     9:30   \n",
       "2    POI3                 JANTAR MANTAR JAIPUR  26.924762  75.824560     9:00   \n",
       "3    POI4                           HAWA MAHAL  26.923936  75.826744     9:00   \n",
       "4    POI5  ALBERT HALL MUSEUM (CENTRAL MUSEUM)  26.911576  75.819487     9:00   \n",
       "..    ...                                  ...        ...        ...      ...   \n",
       "66  POI67   SUNRISE DREAM WORLD AMUSEMENT PARK  27.143995  75.872007    10:00   \n",
       "67  POI68               BRETHREN CHURCH JAIPUR  26.901066  75.762246     9:00   \n",
       "68  POI69                              MI ROAD  26.916726  75.812946     0:00   \n",
       "69  POI70                        BHANGARH FORT  27.072676  76.026691     6:00   \n",
       "70  POI71             SKY WALTZ BALLOON SAFARI  26.948450  75.840522     9:00   \n",
       "\n",
       "   IN-TIME2 OUT-TIME1 OUT-TIME2  \n",
       "0     18:30     17:00     21:15  \n",
       "1         -     17:00         -  \n",
       "2         -     17:00         -  \n",
       "3         -     16:30         -  \n",
       "4     19:00     17:00     22:00  \n",
       "..      ...       ...       ...  \n",
       "66        -     19:00         -  \n",
       "67        -     13:00         -  \n",
       "68        -     23:59         -  \n",
       "69        -     18:00         -  \n",
       "70        -     18:00         -  \n",
       "\n",
       "[71 rows x 8 columns]>"
      ]
     },
     "execution_count": 6,
     "metadata": {},
     "output_type": "execute_result"
    }
   ],
   "source": [
    "place.head"
   ]
  },
  {
   "cell_type": "code",
   "execution_count": 7,
   "id": "7c2fc882",
   "metadata": {},
   "outputs": [],
   "source": [
    "type['tags']=type['PRIORITY_1']+type['PRIORITY_2']+type['PRIORITY_3']+type['PRIORITY_4']+type['PRIORITY_5']"
   ]
  },
  {
   "cell_type": "code",
   "execution_count": 8,
   "id": "926c6ee5",
   "metadata": {},
   "outputs": [
    {
     "data": {
      "text/plain": [
       "<bound method NDFrame.head of       PID                                 POIs           PRIORITY_1  \\\n",
       "0    POI1                         AMBER PALACE  History and Culture   \n",
       "1    POI2                   CITY PALACE JAIPUR  History and Culture   \n",
       "2    POI3                 JANTAR MANTAR JAIPUR  History and Culture   \n",
       "3    POI4                           HAWA MAHAL  History and Culture   \n",
       "4    POI5  ALBERT HALL MUSEUM (CENTRAL MUSEUM)               Museum   \n",
       "..    ...                                  ...                  ...   \n",
       "66  POI67   SUNRISE DREAM WORLD AMUSEMENT PARK            Adventure   \n",
       "67  POI68               BRETHREN CHURCH JAIPUR            Religious   \n",
       "68  POI69                              MI ROAD             Shopping   \n",
       "69  POI70                        BHANGARH FORT            Adventure   \n",
       "70  POI71             SKY WALTZ BALLOON SAFARI            Adventure   \n",
       "\n",
       "             PRIORITY_2         PRIORITY_3          PRIORITY_4  \\\n",
       "0                Museum  Local Experiences              Scenic   \n",
       "1                Museum  Local Experiences              Scenic   \n",
       "2                Museum                  -                   -   \n",
       "3                     -  Local Experiences              Scenic   \n",
       "4   History and Culture             Scenic                   -   \n",
       "..                  ...                ...                 ...   \n",
       "66                    -                  -                   -   \n",
       "67                    -                  -  Shows and Concerts   \n",
       "68      Food and Drinks                  -                   -   \n",
       "69               Scenic          Religious                   -   \n",
       "70               Scenic                  -                   -   \n",
       "\n",
       "           PRIORITY_5                                               tags  \n",
       "0           Adventure  History and CultureMuseumLocal ExperiencesScen...  \n",
       "1     Food and Drinks  History and CultureMuseumLocal ExperiencesScen...  \n",
       "2                   -                       History and CultureMuseum---  \n",
       "3                   -       History and Culture-Local ExperiencesScenic-  \n",
       "4                   -                  MuseumHistory and CultureScenic--  \n",
       "..                ...                                                ...  \n",
       "66                  -                                      Adventure----  \n",
       "67                  -                     Religious--Shows and Concerts-  \n",
       "68                  -                         ShoppingFood and Drinks---  \n",
       "69                  -                         AdventureScenicReligious--  \n",
       "70  Local Experiences                 AdventureScenic--Local Experiences  \n",
       "\n",
       "[71 rows x 8 columns]>"
      ]
     },
     "execution_count": 8,
     "metadata": {},
     "output_type": "execute_result"
    }
   ],
   "source": [
    "type.head"
   ]
  },
  {
   "cell_type": "code",
   "execution_count": 37,
   "id": "60b1d5c2",
   "metadata": {},
   "outputs": [],
   "source": [
    "new_type=type[['PID','POIs','tags']]"
   ]
  },
  {
   "cell_type": "markdown",
   "id": "03101a9a",
   "metadata": {},
   "source": [
    "# uppercase to lowercase"
   ]
  },
  {
   "cell_type": "code",
   "execution_count": 10,
   "id": "c282e859",
   "metadata": {
    "scrolled": true
   },
   "outputs": [
    {
     "name": "stderr",
     "output_type": "stream",
     "text": [
      "C:\\Users\\nikhi\\AppData\\Local\\Temp\\ipykernel_8012\\2630989208.py:1: SettingWithCopyWarning: \n",
      "A value is trying to be set on a copy of a slice from a DataFrame.\n",
      "Try using .loc[row_indexer,col_indexer] = value instead\n",
      "\n",
      "See the caveats in the documentation: https://pandas.pydata.org/pandas-docs/stable/user_guide/indexing.html#returning-a-view-versus-a-copy\n",
      "  new_type['tags']=new_type['tags'].apply(lambda x:x.lower())\n"
     ]
    }
   ],
   "source": [
    "new_type['tags']=new_type['tags'].apply(lambda x:x.lower())"
   ]
  },
  {
   "cell_type": "code",
   "execution_count": 36,
   "id": "21364e97",
   "metadata": {},
   "outputs": [
    {
     "data": {
      "text/plain": [
       "<bound method NDFrame.head of       PID                                 POIs  \\\n",
       "0    POI1                         AMBER PALACE   \n",
       "1    POI2                   CITY PALACE JAIPUR   \n",
       "2    POI3                 JANTAR MANTAR JAIPUR   \n",
       "3    POI4                           HAWA MAHAL   \n",
       "4    POI5  ALBERT HALL MUSEUM (CENTRAL MUSEUM)   \n",
       "..    ...                                  ...   \n",
       "66  POI67   SUNRISE DREAM WORLD AMUSEMENT PARK   \n",
       "67  POI68               BRETHREN CHURCH JAIPUR   \n",
       "68  POI69                              MI ROAD   \n",
       "69  POI70                        BHANGARH FORT   \n",
       "70  POI71             SKY WALTZ BALLOON SAFARI   \n",
       "\n",
       "                                                 tags  \n",
       "0   history and culturemuseumlocal experiencesscen...  \n",
       "1   history and culturemuseumlocal experiencesscen...  \n",
       "2                        history and culturemuseum---  \n",
       "3        history and culture-local experiencesscenic-  \n",
       "4                   museumhistory and culturescenic--  \n",
       "..                                                ...  \n",
       "66                                      adventure----  \n",
       "67                     religious--shows and concerts-  \n",
       "68                         shoppingfood and drinks---  \n",
       "69                         adventurescenicreligious--  \n",
       "70                 adventurescenic--local experiences  \n",
       "\n",
       "[71 rows x 3 columns]>"
      ]
     },
     "execution_count": 36,
     "metadata": {},
     "output_type": "execute_result"
    }
   ],
   "source": [
    "new_type.head"
   ]
  },
  {
   "cell_type": "markdown",
   "id": "49e10ae2",
   "metadata": {},
   "source": [
    "# TEXT VECTORIZATION"
   ]
  },
  {
   "cell_type": "code",
   "execution_count": 12,
   "id": "6a214926",
   "metadata": {},
   "outputs": [
    {
     "name": "stdout",
     "output_type": "stream",
     "text": [
      "Requirement already satisfied: sklearn in e:\\set_install\\python_installation\\lib\\site-packages (0.0)\n",
      "Requirement already satisfied: scikit-learn in e:\\set_install\\python_installation\\lib\\site-packages (from sklearn) (1.0.2)\n",
      "Requirement already satisfied: numpy>=1.14.6 in e:\\set_install\\python_installation\\lib\\site-packages (from scikit-learn->sklearn) (1.22.3)\n",
      "Requirement already satisfied: scipy>=1.1.0 in e:\\set_install\\python_installation\\lib\\site-packages (from scikit-learn->sklearn) (1.8.0)\n",
      "Requirement already satisfied: threadpoolctl>=2.0.0 in e:\\set_install\\python_installation\\lib\\site-packages (from scikit-learn->sklearn) (3.1.0)\n",
      "Requirement already satisfied: joblib>=0.11 in e:\\set_install\\python_installation\\lib\\site-packages (from scikit-learn->sklearn) (1.1.0)\n",
      "Note: you may need to restart the kernel to use updated packages.\n"
     ]
    }
   ],
   "source": [
    "pip install sklearn"
   ]
  },
  {
   "cell_type": "code",
   "execution_count": 13,
   "id": "53a02bfe",
   "metadata": {},
   "outputs": [],
   "source": [
    "from sklearn.feature_extraction.text import CountVectorizer\n",
    "cv=CountVectorizer(max_features=10,stop_words='english')"
   ]
  },
  {
   "cell_type": "code",
   "execution_count": 24,
   "id": "2be851fe",
   "metadata": {},
   "outputs": [],
   "source": [
    "arrow=cv.fit_transform(type['tags']).toarray()"
   ]
  },
  {
   "cell_type": "raw",
   "id": "df66fd8f",
   "metadata": {},
   "source": [
    "arrow.head"
   ]
  },
  {
   "cell_type": "code",
   "execution_count": null,
   "id": "b1f0dde5",
   "metadata": {},
   "outputs": [],
   "source": []
  },
  {
   "cell_type": "markdown",
   "id": "a0fbd248",
   "metadata": {},
   "source": [
    " remove redundence of tags in vector"
   ]
  },
  {
   "cell_type": "markdown",
   "id": "e5450a00",
   "metadata": {},
   "source": [
    "# stamming"
   ]
  },
  {
   "cell_type": "code",
   "execution_count": 15,
   "id": "92108415",
   "metadata": {},
   "outputs": [
    {
     "name": "stdout",
     "output_type": "stream",
     "text": [
      "Requirement already satisfied: nltk in e:\\set_install\\python_installation\\lib\\site-packages (3.7)\n",
      "Requirement already satisfied: click in e:\\set_install\\python_installation\\lib\\site-packages (from nltk) (8.0.4)\n",
      "Requirement already satisfied: joblib in e:\\set_install\\python_installation\\lib\\site-packages (from nltk) (1.1.0)\n",
      "Requirement already satisfied: regex>=2021.8.3 in e:\\set_install\\python_installation\\lib\\site-packages (from nltk) (2022.3.15)\n",
      "Requirement already satisfied: tqdm in e:\\set_install\\python_installation\\lib\\site-packages (from nltk) (4.63.1)\n",
      "Requirement already satisfied: colorama in e:\\set_install\\python_installation\\lib\\site-packages (from click->nltk) (0.4.4)\n",
      "Note: you may need to restart the kernel to use updated packages.\n"
     ]
    }
   ],
   "source": [
    "pip install nltk"
   ]
  },
  {
   "cell_type": "code",
   "execution_count": 16,
   "id": "08078613",
   "metadata": {},
   "outputs": [],
   "source": [
    "from nltk.stem.porter import PorterStemmer\n",
    "ps=PorterStemmer()"
   ]
  },
  {
   "cell_type": "code",
   "execution_count": 18,
   "id": "c12d8a2a",
   "metadata": {
    "scrolled": true
   },
   "outputs": [
    {
     "ename": "IndentationError",
     "evalue": "unexpected indent (3703980420.py, line 7)",
     "output_type": "error",
     "traceback": [
      "\u001b[1;36m  Input \u001b[1;32mIn [18]\u001b[1;36m\u001b[0m\n\u001b[1;33m    return \" \".join(y)\u001b[0m\n\u001b[1;37m    ^\u001b[0m\n\u001b[1;31mIndentationError\u001b[0m\u001b[1;31m:\u001b[0m unexpected indent\n"
     ]
    }
   ],
   "source": [
    "def stem(text):   \n",
    "   y = []\n",
    "\n",
    "for i in text.split:\n",
    "      y.append(ps.stem(i))\n",
    "        \n",
    "        return \" \".join(y)"
   ]
  },
  {
   "cell_type": "markdown",
   "id": "a7c40b7b",
   "metadata": {},
   "source": [
    "cosine dist "
   ]
  },
  {
   "cell_type": "code",
   "execution_count": 29,
   "id": "e7edec0d",
   "metadata": {},
   "outputs": [],
   "source": [
    "from sklearn.metrics.pairwise import cosine_similarity"
   ]
  },
  {
   "cell_type": "code",
   "execution_count": 30,
   "id": "89a63fc7",
   "metadata": {},
   "outputs": [],
   "source": [
    "same=cosine_similarity(arrow)"
   ]
  },
  {
   "cell_type": "code",
   "execution_count": 31,
   "id": "c616833f",
   "metadata": {},
   "outputs": [
    {
     "data": {
      "text/plain": [
       "array([1.        , 0.70710678, 1.        , 0.57735027, 0.        ,\n",
       "       0.        , 0.        , 1.        , 0.5       , 0.        ,\n",
       "       0.        , 0.        , 0.        , 0.        , 0.        ,\n",
       "       0.        , 0.        , 0.57735027, 0.        , 0.        ,\n",
       "       0.        , 0.57735027, 0.4472136 , 0.        , 0.        ,\n",
       "       0.70710678, 0.        , 0.        , 0.        , 0.        ,\n",
       "       0.        , 0.        , 0.        , 0.        , 0.        ,\n",
       "       0.        , 0.        , 0.        , 0.        , 0.        ,\n",
       "       0.        , 0.        , 0.        , 0.        , 0.        ,\n",
       "       0.        , 0.        , 1.        , 0.        , 0.        ,\n",
       "       0.        , 0.        , 0.        , 0.        , 0.        ,\n",
       "       0.        , 0.        , 0.        , 0.        , 0.        ,\n",
       "       0.        , 0.        , 0.        , 0.        , 0.        ,\n",
       "       0.        , 0.        , 0.        , 0.        , 0.        ,\n",
       "       0.        ])"
      ]
     },
     "execution_count": 31,
     "metadata": {},
     "output_type": "execute_result"
    }
   ],
   "source": [
    "same[0]"
   ]
  },
  {
   "cell_type": "markdown",
   "id": "2b431c43",
   "metadata": {},
   "source": [
    "fetch the index and then get it"
   ]
  },
  {
   "cell_type": "code",
   "execution_count": 32,
   "id": "940d0dcd",
   "metadata": {},
   "outputs": [
    {
     "data": {
      "text/plain": [
       "[(2, 1.0),\n",
       " (7, 1.0),\n",
       " (47, 1.0),\n",
       " (1, 0.7071067811865475),\n",
       " (25, 0.7071067811865475)]"
      ]
     },
     "execution_count": 32,
     "metadata": {},
     "output_type": "execute_result"
    }
   ],
   "source": [
    "sorted(list(enumerate(same[0])), reverse=True,key=lambda x:x[1])[1:6]"
   ]
  },
  {
   "cell_type": "code",
   "execution_count": 33,
   "id": "1f1b8c0c",
   "metadata": {},
   "outputs": [],
   "source": [
    "def recommendation(place):\n",
    "    p_index=new_type[new_type['POIs']==place].index[0]\n",
    "    distances=same[p_index]\n",
    "    movies_list=sorted(list(enumerate(same[0])), reverse=True,key=lambda x:x[1])[1:6]\n",
    "    for i in movies_list:\n",
    "        print(new_type.iloc[i[0]].POIs)"
   ]
  },
  {
   "cell_type": "code",
   "execution_count": 1,
   "id": "6f595447",
   "metadata": {},
   "outputs": [
    {
     "ename": "NameError",
     "evalue": "name 'recommendation' is not defined",
     "output_type": "error",
     "traceback": [
      "\u001b[1;31m---------------------------------------------------------------------------\u001b[0m",
      "\u001b[1;31mNameError\u001b[0m                                 Traceback (most recent call last)",
      "Input \u001b[1;32mIn [1]\u001b[0m, in \u001b[0;36m<cell line: 1>\u001b[1;34m()\u001b[0m\n\u001b[1;32m----> 1\u001b[0m \u001b[43mrecommendation\u001b[49m(\u001b[38;5;124m'\u001b[39m\u001b[38;5;124mRAJ MANDIR\u001b[39m\u001b[38;5;124m'\u001b[39m)\n",
      "\u001b[1;31mNameError\u001b[0m: name 'recommendation' is not defined"
     ]
    }
   ],
   "source": [
    "recommendation('RAJ MANDIR')"
   ]
  },
  {
   "cell_type": "code",
   "execution_count": null,
   "id": "38d3e749",
   "metadata": {},
   "outputs": [],
   "source": [
    "new_type.iloc[7].POIs"
   ]
  },
  {
   "cell_type": "code",
   "execution_count": 21,
   "id": "e5660daa",
   "metadata": {},
   "outputs": [],
   "source": [
    "my=arrow"
   ]
  },
  {
   "cell_type": "code",
   "execution_count": 22,
   "id": "41779e8e",
   "metadata": {},
   "outputs": [
    {
     "ename": "AttributeError",
     "evalue": "'numpy.ndarray' object has no attribute 'head'",
     "output_type": "error",
     "traceback": [
      "\u001b[1;31m---------------------------------------------------------------------------\u001b[0m",
      "\u001b[1;31mAttributeError\u001b[0m                            Traceback (most recent call last)",
      "Input \u001b[1;32mIn [22]\u001b[0m, in \u001b[0;36m<cell line: 1>\u001b[1;34m()\u001b[0m\n\u001b[1;32m----> 1\u001b[0m \u001b[43mmy\u001b[49m\u001b[38;5;241;43m.\u001b[39;49m\u001b[43mhead\u001b[49m\n",
      "\u001b[1;31mAttributeError\u001b[0m: 'numpy.ndarray' object has no attribute 'head'"
     ]
    }
   ],
   "source": [
    "my.head"
   ]
  },
  {
   "cell_type": "code",
   "execution_count": 35,
   "id": "56d067a1",
   "metadata": {},
   "outputs": [
    {
     "ename": "AttributeError",
     "evalue": "'numpy.ndarray' object has no attribute 'head'",
     "output_type": "error",
     "traceback": [
      "\u001b[1;31m---------------------------------------------------------------------------\u001b[0m",
      "\u001b[1;31mAttributeError\u001b[0m                            Traceback (most recent call last)",
      "Input \u001b[1;32mIn [35]\u001b[0m, in \u001b[0;36m<cell line: 1>\u001b[1;34m()\u001b[0m\n\u001b[1;32m----> 1\u001b[0m \u001b[43marrow\u001b[49m\u001b[38;5;241;43m.\u001b[39;49m\u001b[43mhead\u001b[49m\n",
      "\u001b[1;31mAttributeError\u001b[0m: 'numpy.ndarray' object has no attribute 'head'"
     ]
    }
   ],
   "source": [
    "arrow.head"
   ]
  },
  {
   "cell_type": "code",
   "execution_count": 38,
   "id": "bb2ec152",
   "metadata": {},
   "outputs": [],
   "source": [
    "trs=new_type"
   ]
  },
  {
   "cell_type": "code",
   "execution_count": 45,
   "id": "2abf5039",
   "metadata": {},
   "outputs": [
    {
     "ename": "IndexError",
     "evalue": "index 71 is out of bounds for axis 0 with size 4",
     "output_type": "error",
     "traceback": [
      "\u001b[1;31m---------------------------------------------------------------------------\u001b[0m",
      "\u001b[1;31mIndexError\u001b[0m                                Traceback (most recent call last)",
      "Input \u001b[1;32mIn [45]\u001b[0m, in \u001b[0;36m<cell line: 1>\u001b[1;34m()\u001b[0m\n\u001b[1;32m----> 1\u001b[0m \u001b[43mtrs\u001b[49m\u001b[38;5;241;43m.\u001b[39;49m\u001b[43minsert\u001b[49m\u001b[43m(\u001b[49m\u001b[38;5;241;43m71\u001b[39;49m\u001b[43m,\u001b[49m\u001b[38;5;124;43m\"\u001b[39;49m\u001b[38;5;124;43mpie\u001b[39;49m\u001b[38;5;124;43m\"\u001b[39;49m\u001b[43m,\u001b[49m\u001b[38;5;124;43m\"\u001b[39;49m\u001b[38;5;124;43mhi mforw\u001b[39;49m\u001b[38;5;124;43m\"\u001b[39;49m\u001b[43m)\u001b[49m\n",
      "File \u001b[1;32mE:\\set_install\\python_installation\\lib\\site-packages\\pandas\\core\\frame.py:4439\u001b[0m, in \u001b[0;36mDataFrame.insert\u001b[1;34m(self, loc, column, value, allow_duplicates)\u001b[0m\n\u001b[0;32m   4436\u001b[0m     \u001b[38;5;28;01mraise\u001b[39;00m \u001b[38;5;167;01mTypeError\u001b[39;00m(\u001b[38;5;124m\"\u001b[39m\u001b[38;5;124mloc must be int\u001b[39m\u001b[38;5;124m\"\u001b[39m)\n\u001b[0;32m   4438\u001b[0m value \u001b[38;5;241m=\u001b[39m \u001b[38;5;28mself\u001b[39m\u001b[38;5;241m.\u001b[39m_sanitize_column(value)\n\u001b[1;32m-> 4439\u001b[0m \u001b[38;5;28;43mself\u001b[39;49m\u001b[38;5;241;43m.\u001b[39;49m\u001b[43m_mgr\u001b[49m\u001b[38;5;241;43m.\u001b[39;49m\u001b[43minsert\u001b[49m\u001b[43m(\u001b[49m\u001b[43mloc\u001b[49m\u001b[43m,\u001b[49m\u001b[43m \u001b[49m\u001b[43mcolumn\u001b[49m\u001b[43m,\u001b[49m\u001b[43m \u001b[49m\u001b[43mvalue\u001b[49m\u001b[43m)\u001b[49m\n",
      "File \u001b[1;32mE:\\set_install\\python_installation\\lib\\site-packages\\pandas\\core\\internals\\managers.py:1230\u001b[0m, in \u001b[0;36mBlockManager.insert\u001b[1;34m(self, loc, item, value)\u001b[0m\n\u001b[0;32m   1220\u001b[0m \u001b[38;5;124;03m\"\"\"\u001b[39;00m\n\u001b[0;32m   1221\u001b[0m \u001b[38;5;124;03mInsert item at selected position.\u001b[39;00m\n\u001b[0;32m   1222\u001b[0m \n\u001b[1;32m   (...)\u001b[0m\n\u001b[0;32m   1227\u001b[0m \u001b[38;5;124;03mvalue : np.ndarray or ExtensionArray\u001b[39;00m\n\u001b[0;32m   1228\u001b[0m \u001b[38;5;124;03m\"\"\"\u001b[39;00m\n\u001b[0;32m   1229\u001b[0m \u001b[38;5;66;03m# insert to the axis; this could possibly raise a TypeError\u001b[39;00m\n\u001b[1;32m-> 1230\u001b[0m new_axis \u001b[38;5;241m=\u001b[39m \u001b[38;5;28;43mself\u001b[39;49m\u001b[38;5;241;43m.\u001b[39;49m\u001b[43mitems\u001b[49m\u001b[38;5;241;43m.\u001b[39;49m\u001b[43minsert\u001b[49m\u001b[43m(\u001b[49m\u001b[43mloc\u001b[49m\u001b[43m,\u001b[49m\u001b[43m \u001b[49m\u001b[43mitem\u001b[49m\u001b[43m)\u001b[49m\n\u001b[0;32m   1232\u001b[0m \u001b[38;5;28;01mif\u001b[39;00m value\u001b[38;5;241m.\u001b[39mndim \u001b[38;5;241m==\u001b[39m \u001b[38;5;241m2\u001b[39m:\n\u001b[0;32m   1233\u001b[0m     value \u001b[38;5;241m=\u001b[39m value\u001b[38;5;241m.\u001b[39mT\n",
      "File \u001b[1;32mE:\\set_install\\python_installation\\lib\\site-packages\\pandas\\core\\indexes\\base.py:6602\u001b[0m, in \u001b[0;36mIndex.insert\u001b[1;34m(self, loc, item)\u001b[0m\n\u001b[0;32m   6595\u001b[0m \u001b[38;5;28;01mif\u001b[39;00m arr\u001b[38;5;241m.\u001b[39mdtype \u001b[38;5;241m!=\u001b[39m \u001b[38;5;28mobject\u001b[39m \u001b[38;5;129;01mor\u001b[39;00m \u001b[38;5;129;01mnot\u001b[39;00m \u001b[38;5;28misinstance\u001b[39m(\n\u001b[0;32m   6596\u001b[0m     item, (\u001b[38;5;28mtuple\u001b[39m, np\u001b[38;5;241m.\u001b[39mdatetime64, np\u001b[38;5;241m.\u001b[39mtimedelta64)\n\u001b[0;32m   6597\u001b[0m ):\n\u001b[0;32m   6598\u001b[0m     \u001b[38;5;66;03m# with object-dtype we need to worry about numpy incorrectly casting\u001b[39;00m\n\u001b[0;32m   6599\u001b[0m     \u001b[38;5;66;03m# dt64/td64 to integer, also about treating tuples as sequences\u001b[39;00m\n\u001b[0;32m   6600\u001b[0m     \u001b[38;5;66;03m# special-casing dt64/td64 https://github.com/numpy/numpy/issues/12550\u001b[39;00m\n\u001b[0;32m   6601\u001b[0m     casted \u001b[38;5;241m=\u001b[39m arr\u001b[38;5;241m.\u001b[39mdtype\u001b[38;5;241m.\u001b[39mtype(item)\n\u001b[1;32m-> 6602\u001b[0m     new_values \u001b[38;5;241m=\u001b[39m \u001b[43mnp\u001b[49m\u001b[38;5;241;43m.\u001b[39;49m\u001b[43minsert\u001b[49m\u001b[43m(\u001b[49m\u001b[43marr\u001b[49m\u001b[43m,\u001b[49m\u001b[43m \u001b[49m\u001b[43mloc\u001b[49m\u001b[43m,\u001b[49m\u001b[43m \u001b[49m\u001b[43mcasted\u001b[49m\u001b[43m)\u001b[49m\n\u001b[0;32m   6604\u001b[0m \u001b[38;5;28;01melse\u001b[39;00m:\n\u001b[0;32m   6605\u001b[0m     \u001b[38;5;66;03m# No overload variant of \"insert\" matches argument types\u001b[39;00m\n\u001b[0;32m   6606\u001b[0m     \u001b[38;5;66;03m# \"ndarray[Any, Any]\", \"int\", \"None\"  [call-overload]\u001b[39;00m\n\u001b[0;32m   6607\u001b[0m     new_values \u001b[38;5;241m=\u001b[39m np\u001b[38;5;241m.\u001b[39minsert(arr, loc, \u001b[38;5;28;01mNone\u001b[39;00m)  \u001b[38;5;66;03m# type: ignore[call-overload]\u001b[39;00m\n",
      "File \u001b[1;32m<__array_function__ internals>:180\u001b[0m, in \u001b[0;36minsert\u001b[1;34m(*args, **kwargs)\u001b[0m\n",
      "File \u001b[1;32mE:\\set_install\\python_installation\\lib\\site-packages\\numpy\\lib\\function_base.py:5280\u001b[0m, in \u001b[0;36minsert\u001b[1;34m(arr, obj, values, axis)\u001b[0m\n\u001b[0;32m   5278\u001b[0m index \u001b[38;5;241m=\u001b[39m indices\u001b[38;5;241m.\u001b[39mitem()\n\u001b[0;32m   5279\u001b[0m \u001b[38;5;28;01mif\u001b[39;00m index \u001b[38;5;241m<\u001b[39m \u001b[38;5;241m-\u001b[39mN \u001b[38;5;129;01mor\u001b[39;00m index \u001b[38;5;241m>\u001b[39m N:\n\u001b[1;32m-> 5280\u001b[0m     \u001b[38;5;28;01mraise\u001b[39;00m \u001b[38;5;167;01mIndexError\u001b[39;00m(\u001b[38;5;124mf\u001b[39m\u001b[38;5;124m\"\u001b[39m\u001b[38;5;124mindex \u001b[39m\u001b[38;5;132;01m{\u001b[39;00mobj\u001b[38;5;132;01m}\u001b[39;00m\u001b[38;5;124m is out of bounds for axis \u001b[39m\u001b[38;5;132;01m{\u001b[39;00maxis\u001b[38;5;132;01m}\u001b[39;00m\u001b[38;5;124m \u001b[39m\u001b[38;5;124m\"\u001b[39m\n\u001b[0;32m   5281\u001b[0m                      \u001b[38;5;124mf\u001b[39m\u001b[38;5;124m\"\u001b[39m\u001b[38;5;124mwith size \u001b[39m\u001b[38;5;132;01m{\u001b[39;00mN\u001b[38;5;132;01m}\u001b[39;00m\u001b[38;5;124m\"\u001b[39m)\n\u001b[0;32m   5282\u001b[0m \u001b[38;5;28;01mif\u001b[39;00m (index \u001b[38;5;241m<\u001b[39m \u001b[38;5;241m0\u001b[39m):\n\u001b[0;32m   5283\u001b[0m     index \u001b[38;5;241m+\u001b[39m\u001b[38;5;241m=\u001b[39m N\n",
      "\u001b[1;31mIndexError\u001b[0m: index 71 is out of bounds for axis 0 with size 4"
     ]
    }
   ],
   "source": [
    "trs.insert(71,\"pie\",\"hi mforw\")"
   ]
  },
  {
   "cell_type": "code",
   "execution_count": 47,
   "id": "6fbf2256",
   "metadata": {},
   "outputs": [
    {
     "data": {
      "text/plain": [
       "<bound method NDFrame.head of       PID                                 POIs  po  \\\n",
       "0    POI1                         AMBER PALACE  hi   \n",
       "1    POI2                   CITY PALACE JAIPUR  hi   \n",
       "2    POI3                 JANTAR MANTAR JAIPUR  hi   \n",
       "3    POI4                           HAWA MAHAL  hi   \n",
       "4    POI5  ALBERT HALL MUSEUM (CENTRAL MUSEUM)  hi   \n",
       "..    ...                                  ...  ..   \n",
       "66  POI67   SUNRISE DREAM WORLD AMUSEMENT PARK  hi   \n",
       "67  POI68               BRETHREN CHURCH JAIPUR  hi   \n",
       "68  POI69                              MI ROAD  hi   \n",
       "69  POI70                        BHANGARH FORT  hi   \n",
       "70  POI71             SKY WALTZ BALLOON SAFARI  hi   \n",
       "\n",
       "                                                 tags  \n",
       "0   History and CultureMuseumLocal ExperiencesScen...  \n",
       "1   History and CultureMuseumLocal ExperiencesScen...  \n",
       "2                        History and CultureMuseum---  \n",
       "3        History and Culture-Local ExperiencesScenic-  \n",
       "4                   MuseumHistory and CultureScenic--  \n",
       "..                                                ...  \n",
       "66                                      Adventure----  \n",
       "67                     Religious--Shows and Concerts-  \n",
       "68                         ShoppingFood and Drinks---  \n",
       "69                         AdventureScenicReligious--  \n",
       "70                 AdventureScenic--Local Experiences  \n",
       "\n",
       "[71 rows x 4 columns]>"
      ]
     },
     "execution_count": 47,
     "metadata": {},
     "output_type": "execute_result"
    }
   ],
   "source": [
    "trs.head"
   ]
  },
  {
   "cell_type": "code",
   "execution_count": null,
   "id": "9c86d8f6",
   "metadata": {},
   "outputs": [],
   "source": []
  }
 ],
 "metadata": {
  "kernelspec": {
   "display_name": "Python 3 (ipykernel)",
   "language": "python",
   "name": "python3"
  },
  "language_info": {
   "codemirror_mode": {
    "name": "ipython",
    "version": 3
   },
   "file_extension": ".py",
   "mimetype": "text/x-python",
   "name": "python",
   "nbconvert_exporter": "python",
   "pygments_lexer": "ipython3",
   "version": "3.10.2"
  }
 },
 "nbformat": 4,
 "nbformat_minor": 5
}
