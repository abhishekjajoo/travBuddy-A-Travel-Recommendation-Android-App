{
 "cells": [
  {
   "cell_type": "code",
   "execution_count": 3,
   "id": "a945d6c8",
   "metadata": {},
   "outputs": [
    {
     "ename": "ModuleNotFoundError",
     "evalue": "No module named 'numpy'",
     "output_type": "error",
     "traceback": [
      "\u001b[1;31m---------------------------------------------------------------------------\u001b[0m",
      "\u001b[1;31mModuleNotFoundError\u001b[0m                       Traceback (most recent call last)",
      "Input \u001b[1;32mIn [3]\u001b[0m, in \u001b[0;36m<cell line: 1>\u001b[1;34m()\u001b[0m\n\u001b[1;32m----> 1\u001b[0m \u001b[38;5;28;01mimport\u001b[39;00m \u001b[38;5;21;01mnumpy\u001b[39;00m \u001b[38;5;28;01mas\u001b[39;00m \u001b[38;5;21;01mnp\u001b[39;00m\n\u001b[0;32m      2\u001b[0m \u001b[38;5;28;01mimport\u001b[39;00m \u001b[38;5;21;01mpandas\u001b[39;00m \u001b[38;5;28;01mas\u001b[39;00m \u001b[38;5;21;01mpd\u001b[39;00m\n",
      "\u001b[1;31mModuleNotFoundError\u001b[0m: No module named 'numpy'"
     ]
    }
   ],
   "source": [
    "import numpy as np\n",
    "import pandas as pd"
   ]
  },
  {
   "cell_type": "code",
   "execution_count": 7,
   "id": "88d94658",
   "metadata": {},
   "outputs": [
    {
     "name": "stdout",
     "output_type": "stream",
     "text": [
      "Requirement already satisfied: pandas in e:\\set_install\\python_installation\\lib\\site-packages (1.4.1)\n",
      "Requirement already satisfied: python-dateutil>=2.8.1 in e:\\set_install\\python_installation\\lib\\site-packages (from pandas) (2.8.2)\n",
      "Requirement already satisfied: numpy>=1.21.0 in e:\\set_install\\python_installation\\lib\\site-packages (from pandas) (1.22.3)\n",
      "Requirement already satisfied: pytz>=2020.1 in e:\\set_install\\python_installation\\lib\\site-packages (from pandas) (2022.1)\n",
      "Requirement already satisfied: six>=1.5 in e:\\set_install\\python_installation\\lib\\site-packages (from python-dateutil>=2.8.1->pandas) (1.16.0)\n",
      "Note: you may need to restart the kernel to use updated packages.\n"
     ]
    },
    {
     "name": "stderr",
     "output_type": "stream",
     "text": [
      "WARNING: You are using pip version 21.2.4; however, version 22.0.4 is available.\n",
      "You should consider upgrading via the 'E:\\set_install\\python_installation\\python.exe -m pip install --upgrade pip' command.\n"
     ]
    }
   ],
   "source": [
    "pip install pandas"
   ]
  },
  {
   "cell_type": "code",
   "execution_count": 8,
   "id": "4588e21e",
   "metadata": {},
   "outputs": [
    {
     "name": "stdout",
     "output_type": "stream",
     "text": [
      "Requirement already satisfied: numpy in e:\\set_install\\python_installation\\lib\\site-packages (1.22.3)Note: you may need to restart the kernel to use updated packages.\n"
     ]
    },
    {
     "name": "stderr",
     "output_type": "stream",
     "text": [
      "WARNING: You are using pip version 21.2.4; however, version 22.0.4 is available.\n",
      "You should consider upgrading via the 'E:\\set_install\\python_installation\\python.exe -m pip install --upgrade pip' command.\n"
     ]
    },
    {
     "name": "stdout",
     "output_type": "stream",
     "text": [
      "\n"
     ]
    }
   ],
   "source": [
    "pip install numpy"
   ]
  },
  {
   "cell_type": "code",
   "execution_count": 10,
   "id": "f34fed40",
   "metadata": {},
   "outputs": [],
   "source": [
    "import numpy as np\n",
    "import pandas as pd"
   ]
  },
  {
   "cell_type": "code",
   "execution_count": 12,
   "id": "761ad047",
   "metadata": {},
   "outputs": [],
   "source": [
    "place =pd.read_csv(\"places.csv\")\n",
    "type=pd.read_csv(\"types.csv\")"
   ]
  },
  {
   "cell_type": "code",
   "execution_count": 14,
   "id": "ecc0350a",
   "metadata": {},
   "outputs": [
    {
     "data": {
      "text/plain": [
       "<bound method NDFrame.head of       PID                                 POIs   LATITUDE  LONGITUDE IN-TIME1  \\\n",
       "0    POI1                         AMBER PALACE  26.985487  75.851345    10:00   \n",
       "1    POI2                   CITY PALACE JAIPUR  26.925771  75.823658     9:30   \n",
       "2    POI3                 JANTAR MANTAR JAIPUR  26.924762  75.824560     9:00   \n",
       "3    POI4                           HAWA MAHAL  26.923936  75.826744     9:00   \n",
       "4    POI5  ALBERT HALL MUSEUM (CENTRAL MUSEUM)  26.911576  75.819487     9:00   \n",
       "..    ...                                  ...        ...        ...      ...   \n",
       "66  POI67   SUNRISE DREAM WORLD AMUSEMENT PARK  27.143995  75.872007    10:00   \n",
       "67  POI68               BRETHREN CHURCH JAIPUR  26.901066  75.762246     9:00   \n",
       "68  POI69                              MI ROAD  26.916726  75.812946     0:00   \n",
       "69  POI70                        BHANGARH FORT  27.072676  76.026691     6:00   \n",
       "70  POI71             SKY WALTZ BALLOON SAFARI  26.948450  75.840522     9:00   \n",
       "\n",
       "   IN-TIME2 OUT-TIME1 OUT-TIME2  \n",
       "0     18:30     17:00     21:15  \n",
       "1         -     17:00         -  \n",
       "2         -     17:00         -  \n",
       "3         -     16:30         -  \n",
       "4     19:00     17:00     22:00  \n",
       "..      ...       ...       ...  \n",
       "66        -     19:00         -  \n",
       "67        -     13:00         -  \n",
       "68        -     23:59         -  \n",
       "69        -     18:00         -  \n",
       "70        -     18:00         -  \n",
       "\n",
       "[71 rows x 8 columns]>"
      ]
     },
     "execution_count": 14,
     "metadata": {},
     "output_type": "execute_result"
    }
   ],
   "source": [
    "place.head"
   ]
  },
  {
   "cell_type": "code",
   "execution_count": 25,
   "id": "7f2881d2",
   "metadata": {},
   "outputs": [],
   "source": [
    "type['tags']=type['PRIORITY_1']+type['PRIORITY_2']+type['PRIORITY_3']+type['PRIORITY_4']+type['PRIORITY_5']"
   ]
  },
  {
   "cell_type": "code",
   "execution_count": 26,
   "id": "7303ea78",
   "metadata": {},
   "outputs": [
    {
     "data": {
      "text/plain": [
       "<bound method NDFrame.head of       PID                                 POIs           PRIORITY_1  \\\n",
       "0    POI1                         AMBER PALACE  History and Culture   \n",
       "1    POI2                   CITY PALACE JAIPUR  History and Culture   \n",
       "2    POI3                 JANTAR MANTAR JAIPUR  History and Culture   \n",
       "3    POI4                           HAWA MAHAL  History and Culture   \n",
       "4    POI5  ALBERT HALL MUSEUM (CENTRAL MUSEUM)               Museum   \n",
       "..    ...                                  ...                  ...   \n",
       "66  POI67   SUNRISE DREAM WORLD AMUSEMENT PARK            Adventure   \n",
       "67  POI68               BRETHREN CHURCH JAIPUR            Religious   \n",
       "68  POI69                              MI ROAD             Shopping   \n",
       "69  POI70                        BHANGARH FORT            Adventure   \n",
       "70  POI71             SKY WALTZ BALLOON SAFARI            Adventure   \n",
       "\n",
       "             PRIORITY_2         PRIORITY_3          PRIORITY_4  \\\n",
       "0                Museum  Local Experiences              Scenic   \n",
       "1                Museum  Local Experiences              Scenic   \n",
       "2                Museum                  -                   -   \n",
       "3                     -  Local Experiences              Scenic   \n",
       "4   History and Culture             Scenic                   -   \n",
       "..                  ...                ...                 ...   \n",
       "66                    -                  -                   -   \n",
       "67                    -                  -  Shows and Concerts   \n",
       "68      Food and Drinks                  -                   -   \n",
       "69               Scenic          Religious                   -   \n",
       "70               Scenic                  -                   -   \n",
       "\n",
       "           PRIORITY_5                                               tags  \n",
       "0           Adventure  History and CultureMuseumLocal ExperiencesScen...  \n",
       "1     Food and Drinks  History and CultureMuseumLocal ExperiencesScen...  \n",
       "2                   -                       History and CultureMuseum---  \n",
       "3                   -       History and Culture-Local ExperiencesScenic-  \n",
       "4                   -                  MuseumHistory and CultureScenic--  \n",
       "..                ...                                                ...  \n",
       "66                  -                                      Adventure----  \n",
       "67                  -                     Religious--Shows and Concerts-  \n",
       "68                  -                         ShoppingFood and Drinks---  \n",
       "69                  -                         AdventureScenicReligious--  \n",
       "70  Local Experiences                 AdventureScenic--Local Experiences  \n",
       "\n",
       "[71 rows x 8 columns]>"
      ]
     },
     "execution_count": 26,
     "metadata": {},
     "output_type": "execute_result"
    }
   ],
   "source": [
    "type.head"
   ]
  },
  {
   "cell_type": "code",
   "execution_count": 41,
   "id": "fa2bad1f",
   "metadata": {},
   "outputs": [],
   "source": [
    "new_type=type[['PID','POIs','tags']]"
   ]
  },
  {
   "cell_type": "markdown",
   "id": "9f5307f2",
   "metadata": {},
   "source": [
    "# uppercase to lowercase"
   ]
  },
  {
   "cell_type": "code",
   "execution_count": 38,
   "id": "6183defe",
   "metadata": {
    "scrolled": true
   },
   "outputs": [
    {
     "name": "stderr",
     "output_type": "stream",
     "text": [
      "C:\\Users\\nikhi\\AppData\\Local\\Temp\\ipykernel_13124\\2630989208.py:1: SettingWithCopyWarning: \n",
      "A value is trying to be set on a copy of a slice from a DataFrame.\n",
      "Try using .loc[row_indexer,col_indexer] = value instead\n",
      "\n",
      "See the caveats in the documentation: https://pandas.pydata.org/pandas-docs/stable/user_guide/indexing.html#returning-a-view-versus-a-copy\n",
      "  new_type['tags']=new_type['tags'].apply(lambda x:x.lower())\n"
     ]
    }
   ],
   "source": [
    "new_type['tags']=new_type['tags'].apply(lambda x:x.lower())"
   ]
  },
  {
   "cell_type": "code",
   "execution_count": 43,
   "id": "f35aea32",
   "metadata": {},
   "outputs": [
    {
     "data": {
      "text/plain": [
       "<bound method NDFrame.head of       PID                                 POIs  \\\n",
       "0    POI1                         AMBER PALACE   \n",
       "1    POI2                   CITY PALACE JAIPUR   \n",
       "2    POI3                 JANTAR MANTAR JAIPUR   \n",
       "3    POI4                           HAWA MAHAL   \n",
       "4    POI5  ALBERT HALL MUSEUM (CENTRAL MUSEUM)   \n",
       "..    ...                                  ...   \n",
       "66  POI67   SUNRISE DREAM WORLD AMUSEMENT PARK   \n",
       "67  POI68               BRETHREN CHURCH JAIPUR   \n",
       "68  POI69                              MI ROAD   \n",
       "69  POI70                        BHANGARH FORT   \n",
       "70  POI71             SKY WALTZ BALLOON SAFARI   \n",
       "\n",
       "                                                 tags  \n",
       "0   History and CultureMuseumLocal ExperiencesScen...  \n",
       "1   History and CultureMuseumLocal ExperiencesScen...  \n",
       "2                        History and CultureMuseum---  \n",
       "3        History and Culture-Local ExperiencesScenic-  \n",
       "4                   MuseumHistory and CultureScenic--  \n",
       "..                                                ...  \n",
       "66                                      Adventure----  \n",
       "67                     Religious--Shows and Concerts-  \n",
       "68                         ShoppingFood and Drinks---  \n",
       "69                         AdventureScenicReligious--  \n",
       "70                 AdventureScenic--Local Experiences  \n",
       "\n",
       "[71 rows x 3 columns]>"
      ]
     },
     "execution_count": 43,
     "metadata": {},
     "output_type": "execute_result"
    }
   ],
   "source": [
    "new_type.head"
   ]
  },
  {
   "cell_type": "markdown",
   "id": "b04a52e4",
   "metadata": {},
   "source": [
    "# TEXT VECTORIZATION"
   ]
  },
  {
   "cell_type": "code",
   "execution_count": 46,
   "id": "5a797e4e",
   "metadata": {},
   "outputs": [
    {
     "name": "stdout",
     "output_type": "stream",
     "text": [
      "Requirement already satisfied: sklearn in e:\\set_install\\python_installation\\lib\\site-packages (0.0)\n",
      "Requirement already satisfied: scikit-learn in e:\\set_install\\python_installation\\lib\\site-packages (from sklearn) (1.0.2)\n",
      "Requirement already satisfied: joblib>=0.11 in e:\\set_install\\python_installation\\lib\\site-packages (from scikit-learn->sklearn) (1.1.0)\n",
      "Requirement already satisfied: scipy>=1.1.0 in e:\\set_install\\python_installation\\lib\\site-packages (from scikit-learn->sklearn) (1.8.0)\n",
      "Requirement already satisfied: numpy>=1.14.6 in e:\\set_install\\python_installation\\lib\\site-packages (from scikit-learn->sklearn) (1.22.3)\n",
      "Requirement already satisfied: threadpoolctl>=2.0.0 in e:\\set_install\\python_installation\\lib\\site-packages (from scikit-learn->sklearn) (3.1.0)\n",
      "Note: you may need to restart the kernel to use updated packages.\n"
     ]
    },
    {
     "name": "stderr",
     "output_type": "stream",
     "text": [
      "WARNING: You are using pip version 21.2.4; however, version 22.0.4 is available.\n",
      "You should consider upgrading via the 'E:\\set_install\\python_installation\\python.exe -m pip install --upgrade pip' command.\n"
     ]
    }
   ],
   "source": [
    "pip install sklearn"
   ]
  },
  {
   "cell_type": "code",
   "execution_count": 49,
   "id": "a3a97185",
   "metadata": {},
   "outputs": [],
   "source": [
    "from sklearn.feature_extraction.text import CountVectorizer\n",
    "cv=CountVectorizer(max_features=10,stop_words='english')"
   ]
  },
  {
   "cell_type": "code",
   "execution_count": 81,
   "id": "2202ad3c",
   "metadata": {},
   "outputs": [],
   "source": [
    "arrow=cv.fit_transform(type['tags']).toarray()"
   ]
  },
  {
   "cell_type": "markdown",
   "id": "a2084f79",
   "metadata": {},
   "source": [
    " remove redundence of tags in vector"
   ]
  },
  {
   "cell_type": "markdown",
   "id": "e30c13a2",
   "metadata": {},
   "source": [
    "# stamming"
   ]
  },
  {
   "cell_type": "code",
   "execution_count": 54,
   "id": "4051f0c1",
   "metadata": {},
   "outputs": [
    {
     "name": "stdout",
     "output_type": "stream",
     "text": [
      "Collecting nltk\n",
      "  Downloading nltk-3.7-py3-none-any.whl (1.5 MB)\n",
      "Collecting regex>=2021.8.3\n",
      "  Downloading regex-2022.3.15-cp310-cp310-win_amd64.whl (274 kB)\n",
      "Collecting click\n",
      "  Downloading click-8.0.4-py3-none-any.whl (97 kB)\n",
      "Collecting tqdm\n",
      "  Downloading tqdm-4.63.1-py2.py3-none-any.whl (76 kB)\n",
      "Requirement already satisfied: joblib in e:\\set_install\\python_installation\\lib\\site-packages (from nltk) (1.1.0)\n",
      "Requirement already satisfied: colorama in e:\\set_install\\python_installation\\lib\\site-packages (from click->nltk) (0.4.4)\n",
      "Installing collected packages: tqdm, regex, click, nltk\n",
      "Successfully installed click-8.0.4 nltk-3.7 regex-2022.3.15 tqdm-4.63.1\n",
      "Note: you may need to restart the kernel to use updated packages.\n"
     ]
    },
    {
     "name": "stderr",
     "output_type": "stream",
     "text": [
      "  WARNING: The script tqdm.exe is installed in 'E:\\set_install\\python_installation\\Scripts' which is not on PATH.\n",
      "  Consider adding this directory to PATH or, if you prefer to suppress this warning, use --no-warn-script-location.\n",
      "  WARNING: The script nltk.exe is installed in 'E:\\set_install\\python_installation\\Scripts' which is not on PATH.\n",
      "  Consider adding this directory to PATH or, if you prefer to suppress this warning, use --no-warn-script-location.\n",
      "WARNING: You are using pip version 21.2.4; however, version 22.0.4 is available.\n",
      "You should consider upgrading via the 'E:\\set_install\\python_installation\\python.exe -m pip install --upgrade pip' command.\n"
     ]
    }
   ],
   "source": [
    "pip install nltk"
   ]
  },
  {
   "cell_type": "code",
   "execution_count": 56,
   "id": "d3016a69",
   "metadata": {},
   "outputs": [],
   "source": [
    "from nltk.stem.porter import PorterStemmer\n",
    "ps=PorterStemmer()"
   ]
  },
  {
   "cell_type": "code",
   "execution_count": 77,
   "id": "99e3012f",
   "metadata": {
    "scrolled": true
   },
   "outputs": [
    {
     "ename": "IndentationError",
     "evalue": "unexpected indent (352424189.py, line 7)",
     "output_type": "error",
     "traceback": [
      "\u001b[1;36m  Input \u001b[1;32mIn [77]\u001b[1;36m\u001b[0m\n\u001b[1;33m    return ' '.join(y)\u001b[0m\n\u001b[1;37m    ^\u001b[0m\n\u001b[1;31mIndentationError\u001b[0m\u001b[1;31m:\u001b[0m unexpected indent\n"
     ]
    }
   ],
   "source": [
    "def stem(text):   \n",
    "   y = []\n",
    "\n",
    "for i in text.split:\n",
    "      y.append(ps.stem(i))\n",
    "        \n",
    "        return \" \".join(y)"
   ]
  },
  {
   "cell_type": "markdown",
   "id": "81e02688",
   "metadata": {},
   "source": [
    "cosine dist "
   ]
  },
  {
   "cell_type": "code",
   "execution_count": 79,
   "id": "480e83be",
   "metadata": {},
   "outputs": [],
   "source": [
    "from sklearn.metrics.pairwise import cosine_similarity"
   ]
  },
  {
   "cell_type": "code",
   "execution_count": 87,
   "id": "71f02b8f",
   "metadata": {},
   "outputs": [],
   "source": [
    "same=cosine_similarity(arrow)"
   ]
  },
  {
   "cell_type": "code",
   "execution_count": 90,
   "id": "bfc92a22",
   "metadata": {},
   "outputs": [
    {
     "data": {
      "text/plain": [
       "array([1.        , 0.70710678, 1.        , 0.57735027, 0.        ,\n",
       "       0.        , 0.        , 1.        , 0.5       , 0.        ,\n",
       "       0.        , 0.        , 0.        , 0.        , 0.        ,\n",
       "       0.        , 0.        , 0.57735027, 0.        , 0.        ,\n",
       "       0.        , 0.57735027, 0.4472136 , 0.        , 0.        ,\n",
       "       0.70710678, 0.        , 0.        , 0.        , 0.        ,\n",
       "       0.        , 0.        , 0.        , 0.        , 0.        ,\n",
       "       0.        , 0.        , 0.        , 0.        , 0.        ,\n",
       "       0.        , 0.        , 0.        , 0.        , 0.        ,\n",
       "       0.        , 0.        , 1.        , 0.        , 0.        ,\n",
       "       0.        , 0.        , 0.        , 0.        , 0.        ,\n",
       "       0.        , 0.        , 0.        , 0.        , 0.        ,\n",
       "       0.        , 0.        , 0.        , 0.        , 0.        ,\n",
       "       0.        , 0.        , 0.        , 0.        , 0.        ,\n",
       "       0.        ])"
      ]
     },
     "execution_count": 90,
     "metadata": {},
     "output_type": "execute_result"
    }
   ],
   "source": [
    "same[0]"
   ]
  },
  {
   "cell_type": "markdown",
   "id": "74d83bc7",
   "metadata": {},
   "source": [
    "fetch the index and then get it"
   ]
  },
  {
   "cell_type": "code",
   "execution_count": 97,
   "id": "84431564",
   "metadata": {},
   "outputs": [
    {
     "data": {
      "text/plain": [
       "[(2, 1.0),\n",
       " (7, 1.0),\n",
       " (47, 1.0),\n",
       " (1, 0.7071067811865475),\n",
       " (25, 0.7071067811865475)]"
      ]
     },
     "execution_count": 97,
     "metadata": {},
     "output_type": "execute_result"
    }
   ],
   "source": [
    "sorted(list(enumerate(same[0])), reverse=True,key=lambda x:x[1])[1:6]"
   ]
  },
  {
   "cell_type": "code",
   "execution_count": 101,
   "id": "a8e300bf",
   "metadata": {},
   "outputs": [],
   "source": [
    "def recommendation(place):\n",
    "    p_index=new_type[new_type['POIs']==place].index[0]\n",
    "    distances=same[p_index]\n",
    "    movies_list=sorted(list(enumerate(same[0])), reverse=True,key=lambda x:x[1])[1:6]\n",
    "    for i in movies_list:\n",
    "        print(i[0])\n"
   ]
  },
  {
   "cell_type": "code",
   "execution_count": 103,
   "id": "45f23e83",
   "metadata": {},
   "outputs": [
    {
     "name": "stdout",
     "output_type": "stream",
     "text": [
      "2\n",
      "7\n",
      "47\n",
      "1\n",
      "25\n"
     ]
    }
   ],
   "source": [
    "recommendation('GALTAJI')"
   ]
  },
  {
   "cell_type": "code",
   "execution_count": 107,
   "id": "91761e6f",
   "metadata": {},
   "outputs": [
    {
     "name": "stdout",
     "output_type": "stream",
     "text": [
      "Note: you may need to restart the kernel to use updated packages.\n"
     ]
    },
    {
     "name": "stderr",
     "output_type": "stream",
     "text": [
      "ERROR: Could not find a version that satisfies the requirement iloc (from versions: none)\n",
      "ERROR: No matching distribution found for iloc\n",
      "WARNING: You are using pip version 21.2.4; however, version 22.0.4 is available.\n",
      "You should consider upgrading via the 'E:\\set_install\\python_installation\\python.exe -m pip install --upgrade pip' command.\n"
     ]
    }
   ],
   "source": [
    "pip install iloc"
   ]
  }
 ],
 "metadata": {
  "kernelspec": {
   "display_name": "Python 3 (ipykernel)",
   "language": "python",
   "name": "python3"
  },
  "language_info": {
   "codemirror_mode": {
    "name": "ipython",
    "version": 3
   },
   "file_extension": ".py",
   "mimetype": "text/x-python",
   "name": "python",
   "nbconvert_exporter": "python",
   "pygments_lexer": "ipython3",
   "version": "3.10.2"
  }
 },
 "nbformat": 4,
 "nbformat_minor": 5
}
