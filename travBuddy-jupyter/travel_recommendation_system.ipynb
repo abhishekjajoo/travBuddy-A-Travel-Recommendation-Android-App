{
 "cells": [
  {
   "cell_type": "code",
   "execution_count": 7,
   "id": "06576718",
   "metadata": {},
   "outputs": [],
   "source": [
    "import numpy as np\n",
    "import pandas as pd"
   ]
  },
  {
   "cell_type": "code",
   "execution_count": 8,
   "id": "1c0624fe",
   "metadata": {},
   "outputs": [
    {
     "name": "stdout",
     "output_type": "stream",
     "text": [
      "Requirement already satisfied: pandas in e:\\set_install\\python_installation\\lib\\site-packages (1.4.1)\n",
      "Requirement already satisfied: numpy>=1.21.0 in e:\\set_install\\python_installation\\lib\\site-packages (from pandas) (1.22.3)\n",
      "Requirement already satisfied: pytz>=2020.1 in e:\\set_install\\python_installation\\lib\\site-packages (from pandas) (2022.1)\n",
      "Requirement already satisfied: python-dateutil>=2.8.1 in e:\\set_install\\python_installation\\lib\\site-packages (from pandas) (2.8.2)\n",
      "Requirement already satisfied: six>=1.5 in e:\\set_install\\python_installation\\lib\\site-packages (from python-dateutil>=2.8.1->pandas) (1.16.0)\n",
      "Note: you may need to restart the kernel to use updated packages.\n"
     ]
    }
   ],
   "source": [
    "pip install pandas"
   ]
  },
  {
   "cell_type": "code",
   "execution_count": 9,
   "id": "773a1c7c",
   "metadata": {},
   "outputs": [
    {
     "name": "stdout",
     "output_type": "stream",
     "text": [
      "Requirement already satisfied: numpy in e:\\set_install\\python_installation\\lib\\site-packages (1.22.3)\n",
      "Note: you may need to restart the kernel to use updated packages.\n"
     ]
    }
   ],
   "source": [
    "pip install numpy"
   ]
  },
  {
   "cell_type": "code",
   "execution_count": 10,
   "id": "33bdf445",
   "metadata": {},
   "outputs": [],
   "source": [
    "import numpy as np\n",
    "import pandas as pd"
   ]
  },
  {
   "cell_type": "code",
   "execution_count": 11,
   "id": "0463cbba",
   "metadata": {},
   "outputs": [],
   "source": [
    "place =pd.read_csv(\"places.csv\")\n",
    "type=pd.read_csv(\"types.csv\")"
   ]
  },
  {
   "cell_type": "code",
   "execution_count": 12,
   "id": "107ebda5",
   "metadata": {},
   "outputs": [
    {
     "data": {
      "text/plain": [
       "<bound method NDFrame.head of       PID                                 POIs   LATITUDE  LONGITUDE IN-TIME1  \\\n",
       "0    POI1                         AMBER PALACE  26.985487  75.851345    10:00   \n",
       "1    POI2                   CITY PALACE JAIPUR  26.925771  75.823658     9:30   \n",
       "2    POI3                 JANTAR MANTAR JAIPUR  26.924762  75.824560     9:00   \n",
       "3    POI4                           HAWA MAHAL  26.923936  75.826744     9:00   \n",
       "4    POI5  ALBERT HALL MUSEUM (CENTRAL MUSEUM)  26.911576  75.819487     9:00   \n",
       "..    ...                                  ...        ...        ...      ...   \n",
       "66  POI67   SUNRISE DREAM WORLD AMUSEMENT PARK  27.143995  75.872007    10:00   \n",
       "67  POI68               BRETHREN CHURCH JAIPUR  26.901066  75.762246     9:00   \n",
       "68  POI69                              MI ROAD  26.916726  75.812946     0:00   \n",
       "69  POI70                        BHANGARH FORT  27.072676  76.026691     6:00   \n",
       "70  POI71             SKY WALTZ BALLOON SAFARI  26.948450  75.840522     9:00   \n",
       "\n",
       "   IN-TIME2 OUT-TIME1 OUT-TIME2  \n",
       "0     18:30     17:00     21:15  \n",
       "1         -     17:00         -  \n",
       "2         -     17:00         -  \n",
       "3         -     16:30         -  \n",
       "4     19:00     17:00     22:00  \n",
       "..      ...       ...       ...  \n",
       "66        -     19:00         -  \n",
       "67        -     13:00         -  \n",
       "68        -     23:59         -  \n",
       "69        -     18:00         -  \n",
       "70        -     18:00         -  \n",
       "\n",
       "[71 rows x 8 columns]>"
      ]
     },
     "execution_count": 12,
     "metadata": {},
     "output_type": "execute_result"
    }
   ],
   "source": [
    "place.head"
   ]
  },
  {
   "cell_type": "code",
   "execution_count": 13,
   "id": "7c2fc882",
   "metadata": {},
   "outputs": [],
   "source": [
    "type['tags']=type['PRIORITY_1']+type['PRIORITY_2']+type['PRIORITY_3']+type['PRIORITY_4']+type['PRIORITY_5']"
   ]
  },
  {
   "cell_type": "code",
   "execution_count": 14,
   "id": "926c6ee5",
   "metadata": {},
   "outputs": [
    {
     "data": {
      "text/plain": [
       "<bound method NDFrame.head of       PID                                 POIs           PRIORITY_1  \\\n",
       "0    POI1                         AMBER PALACE  History and Culture   \n",
       "1    POI2                   CITY PALACE JAIPUR  History and Culture   \n",
       "2    POI3                 JANTAR MANTAR JAIPUR  History and Culture   \n",
       "3    POI4                           HAWA MAHAL  History and Culture   \n",
       "4    POI5  ALBERT HALL MUSEUM (CENTRAL MUSEUM)               Museum   \n",
       "..    ...                                  ...                  ...   \n",
       "66  POI67   SUNRISE DREAM WORLD AMUSEMENT PARK            Adventure   \n",
       "67  POI68               BRETHREN CHURCH JAIPUR            Religious   \n",
       "68  POI69                              MI ROAD             Shopping   \n",
       "69  POI70                        BHANGARH FORT            Adventure   \n",
       "70  POI71             SKY WALTZ BALLOON SAFARI            Adventure   \n",
       "\n",
       "             PRIORITY_2         PRIORITY_3          PRIORITY_4  \\\n",
       "0                Museum  Local Experiences              Scenic   \n",
       "1                Museum  Local Experiences              Scenic   \n",
       "2                Museum                  -                   -   \n",
       "3                     -  Local Experiences              Scenic   \n",
       "4   History and Culture             Scenic                   -   \n",
       "..                  ...                ...                 ...   \n",
       "66                    -                  -                   -   \n",
       "67                    -                  -  Shows and Concerts   \n",
       "68      Food and Drinks                  -                   -   \n",
       "69               Scenic          Religious                   -   \n",
       "70               Scenic                  -                   -   \n",
       "\n",
       "           PRIORITY_5                                               tags  \n",
       "0           Adventure  History and CultureMuseumLocal ExperiencesScen...  \n",
       "1     Food and Drinks  History and CultureMuseumLocal ExperiencesScen...  \n",
       "2                   -                       History and CultureMuseum---  \n",
       "3                   -       History and Culture-Local ExperiencesScenic-  \n",
       "4                   -                  MuseumHistory and CultureScenic--  \n",
       "..                ...                                                ...  \n",
       "66                  -                                      Adventure----  \n",
       "67                  -                     Religious--Shows and Concerts-  \n",
       "68                  -                         ShoppingFood and Drinks---  \n",
       "69                  -                         AdventureScenicReligious--  \n",
       "70  Local Experiences                 AdventureScenic--Local Experiences  \n",
       "\n",
       "[71 rows x 8 columns]>"
      ]
     },
     "execution_count": 14,
     "metadata": {},
     "output_type": "execute_result"
    }
   ],
   "source": [
    "type.head"
   ]
  },
  {
   "cell_type": "code",
   "execution_count": 15,
   "id": "60b1d5c2",
   "metadata": {},
   "outputs": [],
   "source": [
    "new_type=type[['PID','POIs','tags']]"
   ]
  },
  {
   "cell_type": "markdown",
   "id": "03101a9a",
   "metadata": {},
   "source": [
    "# uppercase to lowercase"
   ]
  },
  {
   "cell_type": "code",
   "execution_count": 16,
   "id": "c282e859",
   "metadata": {
    "scrolled": true
   },
   "outputs": [
    {
     "name": "stderr",
     "output_type": "stream",
     "text": [
      "C:\\Users\\nikhi\\AppData\\Local\\Temp\\ipykernel_11036\\2630989208.py:1: SettingWithCopyWarning: \n",
      "A value is trying to be set on a copy of a slice from a DataFrame.\n",
      "Try using .loc[row_indexer,col_indexer] = value instead\n",
      "\n",
      "See the caveats in the documentation: https://pandas.pydata.org/pandas-docs/stable/user_guide/indexing.html#returning-a-view-versus-a-copy\n",
      "  new_type['tags']=new_type['tags'].apply(lambda x:x.lower())\n"
     ]
    }
   ],
   "source": [
    "new_type['tags']=new_type['tags'].apply(lambda x:x.lower())"
   ]
  },
  {
   "cell_type": "code",
   "execution_count": 17,
   "id": "21364e97",
   "metadata": {},
   "outputs": [
    {
     "data": {
      "text/plain": [
       "<bound method NDFrame.head of       PID                                 POIs  \\\n",
       "0    POI1                         AMBER PALACE   \n",
       "1    POI2                   CITY PALACE JAIPUR   \n",
       "2    POI3                 JANTAR MANTAR JAIPUR   \n",
       "3    POI4                           HAWA MAHAL   \n",
       "4    POI5  ALBERT HALL MUSEUM (CENTRAL MUSEUM)   \n",
       "..    ...                                  ...   \n",
       "66  POI67   SUNRISE DREAM WORLD AMUSEMENT PARK   \n",
       "67  POI68               BRETHREN CHURCH JAIPUR   \n",
       "68  POI69                              MI ROAD   \n",
       "69  POI70                        BHANGARH FORT   \n",
       "70  POI71             SKY WALTZ BALLOON SAFARI   \n",
       "\n",
       "                                                 tags  \n",
       "0   history and culturemuseumlocal experiencesscen...  \n",
       "1   history and culturemuseumlocal experiencesscen...  \n",
       "2                        history and culturemuseum---  \n",
       "3        history and culture-local experiencesscenic-  \n",
       "4                   museumhistory and culturescenic--  \n",
       "..                                                ...  \n",
       "66                                      adventure----  \n",
       "67                     religious--shows and concerts-  \n",
       "68                         shoppingfood and drinks---  \n",
       "69                         adventurescenicreligious--  \n",
       "70                 adventurescenic--local experiences  \n",
       "\n",
       "[71 rows x 3 columns]>"
      ]
     },
     "execution_count": 17,
     "metadata": {},
     "output_type": "execute_result"
    }
   ],
   "source": [
    "new_type.head"
   ]
  },
  {
   "cell_type": "code",
   "execution_count": null,
   "id": "85fb131b",
   "metadata": {},
   "outputs": [],
   "source": []
  },
  {
   "cell_type": "code",
   "execution_count": 18,
   "id": "8a5d1a41",
   "metadata": {},
   "outputs": [
    {
     "data": {
      "text/plain": [
       "<bound method NDFrame.head of       PID                                 POIs  \\\n",
       "0    POI1                         AMBER PALACE   \n",
       "1    POI2                   CITY PALACE JAIPUR   \n",
       "2    POI3                 JANTAR MANTAR JAIPUR   \n",
       "3    POI4                           HAWA MAHAL   \n",
       "4    POI5  ALBERT HALL MUSEUM (CENTRAL MUSEUM)   \n",
       "..    ...                                  ...   \n",
       "66  POI67   SUNRISE DREAM WORLD AMUSEMENT PARK   \n",
       "67  POI68               BRETHREN CHURCH JAIPUR   \n",
       "68  POI69                              MI ROAD   \n",
       "69  POI70                        BHANGARH FORT   \n",
       "70  POI71             SKY WALTZ BALLOON SAFARI   \n",
       "\n",
       "                                                 tags  \n",
       "0   history and culturemuseumlocal experiencesscen...  \n",
       "1   history and culturemuseumlocal experiencesscen...  \n",
       "2                        history and culturemuseum---  \n",
       "3        history and culture-local experiencesscenic-  \n",
       "4                   museumhistory and culturescenic--  \n",
       "..                                                ...  \n",
       "66                                      adventure----  \n",
       "67                     religious--shows and concerts-  \n",
       "68                         shoppingfood and drinks---  \n",
       "69                         adventurescenicreligious--  \n",
       "70                 adventurescenic--local experiences  \n",
       "\n",
       "[71 rows x 3 columns]>"
      ]
     },
     "execution_count": 18,
     "metadata": {},
     "output_type": "execute_result"
    }
   ],
   "source": [
    "new_type.head"
   ]
  },
  {
   "cell_type": "markdown",
   "id": "49e10ae2",
   "metadata": {},
   "source": [
    "# TEXT VECTORIZATION"
   ]
  },
  {
   "cell_type": "code",
   "execution_count": 19,
   "id": "6a214926",
   "metadata": {},
   "outputs": [
    {
     "name": "stdout",
     "output_type": "stream",
     "text": [
      "Requirement already satisfied: sklearn in e:\\set_install\\python_installation\\lib\\site-packages (0.0)\n",
      "Requirement already satisfied: scikit-learn in e:\\set_install\\python_installation\\lib\\site-packages (from sklearn) (1.0.2)\n",
      "Requirement already satisfied: threadpoolctl>=2.0.0 in e:\\set_install\\python_installation\\lib\\site-packages (from scikit-learn->sklearn) (3.1.0)\n",
      "Requirement already satisfied: scipy>=1.1.0 in e:\\set_install\\python_installation\\lib\\site-packages (from scikit-learn->sklearn) (1.8.0)\n",
      "Requirement already satisfied: joblib>=0.11 in e:\\set_install\\python_installation\\lib\\site-packages (from scikit-learn->sklearn) (1.1.0)\n",
      "Requirement already satisfied: numpy>=1.14.6 in e:\\set_install\\python_installation\\lib\\site-packages (from scikit-learn->sklearn) (1.22.3)\n",
      "Note: you may need to restart the kernel to use updated packages.\n"
     ]
    }
   ],
   "source": [
    "pip install sklearn"
   ]
  },
  {
   "cell_type": "code",
   "execution_count": 20,
   "id": "53a02bfe",
   "metadata": {},
   "outputs": [],
   "source": [
    "from sklearn.feature_extraction.text import CountVectorizer\n",
    "cv=CountVectorizer(max_features=10,stop_words='english')"
   ]
  },
  {
   "cell_type": "code",
   "execution_count": 142,
   "id": "2be851fe",
   "metadata": {},
   "outputs": [
    {
     "data": {
      "text/plain": [
       "0     History and CultureMuseumLocal ExperiencesScen...\n",
       "1     History and CultureMuseumLocal ExperiencesScen...\n",
       "2          History and CultureMuseum---wildlifewildlife\n",
       "3     History and Culture-Local ExperiencesScenic-wi...\n",
       "4     MuseumHistory and CultureScenic--wildlifewildlife\n",
       "                            ...                        \n",
       "66                        Adventure----wildlifewildlife\n",
       "67       Religious--Shows and Concerts-wildlifewildlife\n",
       "68           ShoppingFood and Drinks---wildlifewildlife\n",
       "69           AdventureScenicReligious--wildlifewildlife\n",
       "70    AdventureScenic--Local Experienceswildlifewild...\n",
       "Name: tags, Length: 71, dtype: object"
      ]
     },
     "execution_count": 142,
     "metadata": {},
     "output_type": "execute_result"
    }
   ],
   "source": [
    "arrow=cv.fit_transform(type['tags']).toarray()\n",
    "\n",
    "type['tags']"
   ]
  },
  {
   "cell_type": "code",
   "execution_count": 116,
   "id": "b0755905",
   "metadata": {},
   "outputs": [
    {
     "data": {
      "text/plain": [
       "array([[0, 0, 0, 0, 0, 1, 0, 0, 0, 0],\n",
       "       [0, 0, 1, 0, 0, 1, 0, 0, 0, 0],\n",
       "       [0, 0, 0, 0, 0, 1, 0, 0, 0, 0],\n",
       "       [0, 1, 0, 0, 0, 1, 1, 0, 0, 0],\n",
       "       [0, 0, 0, 0, 0, 0, 0, 0, 0, 0],\n",
       "       [0, 0, 1, 0, 0, 0, 0, 0, 0, 0],\n",
       "       [0, 0, 0, 0, 0, 0, 0, 0, 0, 0],\n",
       "       [0, 0, 0, 0, 0, 1, 0, 0, 0, 0],\n",
       "       [0, 0, 1, 1, 1, 1, 0, 0, 0, 0],\n",
       "       [0, 1, 0, 0, 0, 0, 0, 0, 0, 0],\n",
       "       [1, 0, 0, 0, 0, 0, 0, 1, 1, 0],\n",
       "       [0, 0, 0, 0, 0, 0, 0, 1, 1, 0],\n",
       "       [0, 0, 0, 0, 0, 0, 0, 0, 0, 0],\n",
       "       [0, 0, 0, 1, 0, 0, 0, 0, 0, 0],\n",
       "       [0, 0, 0, 1, 0, 0, 0, 0, 0, 0],\n",
       "       [0, 0, 0, 1, 0, 0, 0, 0, 0, 0],\n",
       "       [0, 0, 0, 1, 0, 0, 0, 0, 0, 0],\n",
       "       [0, 1, 0, 0, 0, 1, 0, 0, 1, 0],\n",
       "       [0, 1, 1, 0, 1, 0, 0, 0, 0, 0],\n",
       "       [0, 0, 1, 0, 1, 0, 0, 0, 0, 1],\n",
       "       [0, 0, 0, 0, 0, 0, 0, 1, 0, 1],\n",
       "       [0, 0, 0, 1, 0, 1, 0, 0, 1, 0],\n",
       "       [0, 1, 0, 1, 0, 1, 1, 1, 0, 0],\n",
       "       [0, 0, 0, 0, 0, 0, 0, 0, 0, 1],\n",
       "       [0, 0, 0, 1, 0, 0, 0, 0, 1, 0],\n",
       "       [0, 1, 0, 0, 0, 1, 0, 0, 0, 0],\n",
       "       [0, 0, 0, 0, 0, 0, 0, 0, 0, 1],\n",
       "       [0, 0, 0, 1, 0, 0, 0, 0, 0, 0],\n",
       "       [0, 0, 0, 0, 0, 0, 0, 0, 0, 0],\n",
       "       [0, 0, 1, 0, 0, 0, 0, 0, 1, 0],\n",
       "       [0, 1, 0, 0, 1, 0, 0, 0, 0, 0],\n",
       "       [0, 0, 0, 0, 0, 0, 0, 0, 0, 0],\n",
       "       [0, 0, 0, 0, 0, 0, 0, 0, 0, 0],\n",
       "       [0, 0, 0, 1, 0, 0, 1, 0, 0, 0],\n",
       "       [0, 0, 0, 1, 0, 0, 1, 0, 0, 0],\n",
       "       [0, 0, 1, 0, 0, 0, 1, 0, 0, 0],\n",
       "       [0, 0, 0, 0, 0, 0, 0, 1, 0, 0],\n",
       "       [0, 1, 0, 0, 0, 0, 0, 0, 0, 0],\n",
       "       [0, 0, 0, 0, 1, 0, 0, 1, 0, 0],\n",
       "       [0, 0, 0, 0, 1, 0, 0, 1, 0, 0],\n",
       "       [0, 0, 0, 0, 0, 0, 0, 0, 0, 0],\n",
       "       [0, 0, 0, 0, 0, 0, 0, 0, 0, 0],\n",
       "       [0, 0, 0, 1, 0, 0, 1, 0, 0, 0],\n",
       "       [1, 0, 0, 0, 0, 0, 0, 0, 0, 0],\n",
       "       [0, 0, 0, 1, 0, 0, 0, 0, 1, 0],\n",
       "       [1, 0, 0, 0, 0, 0, 0, 0, 0, 0],\n",
       "       [0, 0, 0, 0, 0, 0, 0, 0, 0, 0],\n",
       "       [0, 0, 0, 0, 0, 1, 0, 0, 0, 0],\n",
       "       [0, 1, 0, 0, 0, 0, 1, 0, 0, 0],\n",
       "       [0, 0, 0, 0, 0, 0, 0, 0, 0, 1],\n",
       "       [0, 0, 0, 0, 0, 0, 0, 0, 0, 1],\n",
       "       [0, 0, 0, 0, 0, 0, 0, 1, 0, 0],\n",
       "       [1, 0, 0, 0, 0, 0, 0, 0, 1, 0],\n",
       "       [0, 0, 0, 0, 0, 0, 0, 1, 0, 0],\n",
       "       [0, 0, 0, 0, 0, 0, 0, 1, 0, 0],\n",
       "       [0, 0, 0, 0, 0, 0, 0, 0, 0, 0],\n",
       "       [0, 0, 0, 0, 0, 0, 0, 1, 1, 0],\n",
       "       [0, 0, 0, 0, 0, 0, 0, 0, 1, 0],\n",
       "       [0, 0, 0, 0, 0, 0, 0, 1, 0, 0],\n",
       "       [0, 0, 0, 0, 0, 0, 0, 1, 1, 0],\n",
       "       [0, 0, 0, 0, 0, 0, 0, 1, 1, 0],\n",
       "       [0, 0, 0, 0, 0, 0, 1, 0, 0, 0],\n",
       "       [0, 0, 0, 0, 0, 0, 0, 0, 1, 0],\n",
       "       [0, 0, 0, 0, 0, 0, 0, 0, 0, 0],\n",
       "       [0, 0, 0, 0, 0, 0, 0, 0, 0, 0],\n",
       "       [0, 0, 0, 1, 0, 0, 1, 0, 0, 0],\n",
       "       [1, 0, 0, 0, 0, 0, 0, 0, 0, 0],\n",
       "       [0, 0, 0, 0, 0, 0, 0, 1, 0, 0],\n",
       "       [0, 0, 1, 0, 0, 0, 0, 0, 0, 0],\n",
       "       [0, 0, 0, 0, 0, 0, 0, 0, 0, 0],\n",
       "       [0, 0, 0, 1, 0, 0, 1, 0, 0, 0]], dtype=int64)"
      ]
     },
     "execution_count": 116,
     "metadata": {},
     "output_type": "execute_result"
    }
   ],
   "source": [
    "arrow\n"
   ]
  },
  {
   "cell_type": "markdown",
   "id": "a0fbd248",
   "metadata": {},
   "source": [
    " remove redundence of tags in vector"
   ]
  },
  {
   "cell_type": "markdown",
   "id": "e5450a00",
   "metadata": {},
   "source": [
    "# stamming"
   ]
  },
  {
   "cell_type": "code",
   "execution_count": 22,
   "id": "92108415",
   "metadata": {},
   "outputs": [
    {
     "name": "stdout",
     "output_type": "stream",
     "text": [
      "Requirement already satisfied: nltk in e:\\set_install\\python_installation\\lib\\site-packages (3.7)\n",
      "Requirement already satisfied: click in e:\\set_install\\python_installation\\lib\\site-packages (from nltk) (8.0.4)\n",
      "Requirement already satisfied: tqdm in e:\\set_install\\python_installation\\lib\\site-packages (from nltk) (4.63.1)\n",
      "Requirement already satisfied: joblib in e:\\set_install\\python_installation\\lib\\site-packages (from nltk) (1.1.0)\n",
      "Requirement already satisfied: regex>=2021.8.3 in e:\\set_install\\python_installation\\lib\\site-packages (from nltk) (2022.3.15)\n",
      "Requirement already satisfied: colorama in e:\\set_install\\python_installation\\lib\\site-packages (from click->nltk) (0.4.4)\n",
      "Note: you may need to restart the kernel to use updated packages.\n"
     ]
    }
   ],
   "source": [
    "pip install nltk"
   ]
  },
  {
   "cell_type": "code",
   "execution_count": 23,
   "id": "08078613",
   "metadata": {},
   "outputs": [],
   "source": [
    "from nltk.stem.porter import PorterStemmer\n",
    "ps=PorterStemmer()"
   ]
  },
  {
   "cell_type": "code",
   "execution_count": 24,
   "id": "c12d8a2a",
   "metadata": {
    "scrolled": true
   },
   "outputs": [
    {
     "ename": "IndentationError",
     "evalue": "unexpected indent (3703980420.py, line 7)",
     "output_type": "error",
     "traceback": [
      "\u001b[1;36m  Input \u001b[1;32mIn [24]\u001b[1;36m\u001b[0m\n\u001b[1;33m    return \" \".join(y)\u001b[0m\n\u001b[1;37m    ^\u001b[0m\n\u001b[1;31mIndentationError\u001b[0m\u001b[1;31m:\u001b[0m unexpected indent\n"
     ]
    }
   ],
   "source": [
    "def stem(text):   \n",
    "   y = []\n",
    "\n",
    "for i in text.split:\n",
    "      y.append(ps.stem(i))\n",
    "        \n",
    "        return \" \".join(y)"
   ]
  },
  {
   "cell_type": "markdown",
   "id": "a7c40b7b",
   "metadata": {},
   "source": [
    "cosine dist "
   ]
  },
  {
   "cell_type": "code",
   "execution_count": 25,
   "id": "e7edec0d",
   "metadata": {},
   "outputs": [],
   "source": [
    "from sklearn.metrics.pairwise import cosine_similarity"
   ]
  },
  {
   "cell_type": "code",
   "execution_count": 26,
   "id": "89a63fc7",
   "metadata": {},
   "outputs": [],
   "source": [
    "same=cosine_similarity(arrow)"
   ]
  },
  {
   "cell_type": "code",
   "execution_count": 27,
   "id": "c616833f",
   "metadata": {},
   "outputs": [
    {
     "data": {
      "text/plain": [
       "array([1.        , 0.70710678, 1.        , 0.57735027, 0.        ,\n",
       "       0.        , 0.        , 1.        , 0.5       , 0.        ,\n",
       "       0.        , 0.        , 0.        , 0.        , 0.        ,\n",
       "       0.        , 0.        , 0.57735027, 0.        , 0.        ,\n",
       "       0.        , 0.57735027, 0.4472136 , 0.        , 0.        ,\n",
       "       0.70710678, 0.        , 0.        , 0.        , 0.        ,\n",
       "       0.        , 0.        , 0.        , 0.        , 0.        ,\n",
       "       0.        , 0.        , 0.        , 0.        , 0.        ,\n",
       "       0.        , 0.        , 0.        , 0.        , 0.        ,\n",
       "       0.        , 0.        , 1.        , 0.        , 0.        ,\n",
       "       0.        , 0.        , 0.        , 0.        , 0.        ,\n",
       "       0.        , 0.        , 0.        , 0.        , 0.        ,\n",
       "       0.        , 0.        , 0.        , 0.        , 0.        ,\n",
       "       0.        , 0.        , 0.        , 0.        , 0.        ,\n",
       "       0.        ])"
      ]
     },
     "execution_count": 27,
     "metadata": {},
     "output_type": "execute_result"
    }
   ],
   "source": [
    "same[0]"
   ]
  },
  {
   "cell_type": "markdown",
   "id": "2b431c43",
   "metadata": {},
   "source": [
    "fetch the index and then get it"
   ]
  },
  {
   "cell_type": "code",
   "execution_count": 28,
   "id": "940d0dcd",
   "metadata": {},
   "outputs": [
    {
     "data": {
      "text/plain": [
       "[(2, 1.0),\n",
       " (7, 1.0),\n",
       " (47, 1.0),\n",
       " (1, 0.7071067811865475),\n",
       " (25, 0.7071067811865475)]"
      ]
     },
     "execution_count": 28,
     "metadata": {},
     "output_type": "execute_result"
    }
   ],
   "source": [
    "sorted(list(enumerate(same[0])), reverse=True,key=lambda x:x[1])[1:6]"
   ]
  },
  {
   "cell_type": "code",
   "execution_count": 29,
   "id": "1f1b8c0c",
   "metadata": {},
   "outputs": [],
   "source": [
    "def recommendation(place):\n",
    "    p_index=new_type[new_type['POIs']==place].index[0]\n",
    "    distances=same[p_index]\n",
    "    movies_list=sorted(list(enumerate(same[0])), reverse=True,key=lambda x:x[1])[1:6]\n",
    "    for i in movies_list:\n",
    "        print(new_type.iloc[i[0]].POIs)\n"
   ]
  },
  {
   "cell_type": "code",
   "execution_count": 30,
   "id": "6f595447",
   "metadata": {},
   "outputs": [
    {
     "name": "stdout",
     "output_type": "stream",
     "text": [
      "JANTAR MANTAR JAIPUR\n",
      "JAL MAHAL\n",
      "GATORE KI CHHATRI JAIPUR\n",
      "CITY PALACE JAIPUR\n",
      "RAJ MANDIR\n"
     ]
    }
   ],
   "source": [
    "recommendation('GALTAJI')"
   ]
  },
  {
   "cell_type": "code",
   "execution_count": 31,
   "id": "38d3e749",
   "metadata": {},
   "outputs": [
    {
     "data": {
      "text/plain": [
       "'JAL MAHAL'"
      ]
     },
     "execution_count": 31,
     "metadata": {},
     "output_type": "execute_result"
    }
   ],
   "source": [
    "new_type.iloc[7].POIs"
   ]
  },
  {
   "cell_type": "code",
   "execution_count": 32,
   "id": "93e75f9d",
   "metadata": {},
   "outputs": [],
   "source": [
    "import re, math\n",
    "from collections import Counter"
   ]
  },
  {
   "cell_type": "code",
   "execution_count": 33,
   "id": "73764716",
   "metadata": {},
   "outputs": [],
   "source": [
    "def get_cosine(vec1, vec2):\n",
    "     intersection = set(vec1.keys()) & set(vec2.keys())\n",
    "     numerator = sum([vec1[x] * vec2[x] for x in intersection])\n",
    "     sum1 = sum([vec1[x]**2 for x in vec1.keys()])\n",
    "     sum2 = sum([vec2[x]**2 for x in vec2.keys()])\n",
    "     denominator = math.sqrt(sum1) * math.sqrt(sum2)\n",
    "     if not denominator:\n",
    "        return 0.0\n",
    "     else:\n",
    "        return float(numerator) / denominator"
   ]
  },
  {
   "cell_type": "code",
   "execution_count": 34,
   "id": "189c3cfc",
   "metadata": {},
   "outputs": [],
   "source": [
    "WORD = re.compile(r'\\w+')\n",
    "def text_to_vector(text):\n",
    "     words = WORD.findall(text)\n",
    "     return Counter(words)"
   ]
  },
  {
   "cell_type": "code",
   "execution_count": 130,
   "id": "fc766752",
   "metadata": {},
   "outputs": [],
   "source": [
    "text=\"wildlife\"\n",
    "\n",
    "vec=text_to_vector(text)\n",
    "vec2=text_to_vector(\"healthy wildlife\")"
   ]
  },
  {
   "cell_type": "code",
   "execution_count": 125,
   "id": "4c64d807",
   "metadata": {},
   "outputs": [
    {
     "data": {
      "text/plain": [
       "0     History and CultureMuseumLocal ExperiencesScen...\n",
       "1     History and CultureMuseumLocal ExperiencesScen...\n",
       "2          History and CultureMuseum---wildlifewildlife\n",
       "3     History and Culture-Local ExperiencesScenic-wi...\n",
       "4     MuseumHistory and CultureScenic--wildlifewildlife\n",
       "                            ...                        \n",
       "66                        Adventure----wildlifewildlife\n",
       "67       Religious--Shows and Concerts-wildlifewildlife\n",
       "68           ShoppingFood and Drinks---wildlifewildlife\n",
       "69           AdventureScenicReligious--wildlifewildlife\n",
       "70    AdventureScenic--Local Experienceswildlifewild...\n",
       "Name: tags, Length: 71, dtype: object"
      ]
     },
     "execution_count": 125,
     "metadata": {},
     "output_type": "execute_result"
    }
   ],
   "source": [
    "type['tags']"
   ]
  },
  {
   "cell_type": "code",
   "execution_count": 126,
   "id": "b947c2e8",
   "metadata": {},
   "outputs": [
    {
     "data": {
      "text/plain": [
       "array([[1.        , 1.        , 0.70710678, ..., 0.        , 0.        ,\n",
       "        0.        ],\n",
       "       [1.        , 1.        , 0.70710678, ..., 0.        , 0.        ,\n",
       "        0.        ],\n",
       "       [0.70710678, 0.70710678, 1.        , ..., 0.70710678, 0.70710678,\n",
       "        0.        ],\n",
       "       ...,\n",
       "       [0.        , 0.        , 0.70710678, ..., 1.        , 1.        ,\n",
       "        0.        ],\n",
       "       [0.        , 0.        , 0.70710678, ..., 1.        , 1.        ,\n",
       "        0.        ],\n",
       "       [0.        , 0.        , 0.        , ..., 0.        , 0.        ,\n",
       "        1.        ]])"
      ]
     },
     "execution_count": 126,
     "metadata": {},
     "output_type": "execute_result"
    }
   ],
   "source": [
    "cosine_similarity(arrow)"
   ]
  },
  {
   "cell_type": "code",
   "execution_count": 38,
   "id": "2a1159a3",
   "metadata": {},
   "outputs": [],
   "source": [
    "def get_cosine(vec1, vec2):\n",
    "     intersection = set(vec1.keys()) & set(vec2.keys())\n",
    "     numerator = sum([vec1[x] * vec2[x] for x in intersection])\n",
    "     sum1 = sum([vec1[x]**2 for x in vec1.keys()])\n",
    "     sum2 = sum([vec2[x]**2 for x in vec2.keys()])\n",
    "     denominator = math.sqrt(sum1) * math.sqrt(sum2)\n",
    "     if not denominator:\n",
    "        return 0.0\n",
    "     else:\n",
    "        return float(numerator) / denominator"
   ]
  },
  {
   "cell_type": "code",
   "execution_count": 152,
   "id": "86411364",
   "metadata": {},
   "outputs": [
    {
     "data": {
      "text/plain": [
       "0.0"
      ]
     },
     "execution_count": 152,
     "metadata": {},
     "output_type": "execute_result"
    }
   ],
   "source": [
    "vec=text_to_vector('hi')\n",
    "vec2=text_to_vector(type['tags'][2])\n",
    "type['tags'][6]\n",
    "get_cosine(vec, vec2)\n"
   ]
  },
  {
   "cell_type": "code",
   "execution_count": 189,
   "id": "209824b1",
   "metadata": {},
   "outputs": [],
   "source": [
    "gh=type['tags']"
   ]
  },
  {
   "cell_type": "code",
   "execution_count": 203,
   "id": "36d71076",
   "metadata": {},
   "outputs": [
    {
     "ename": "SyntaxError",
     "evalue": "invalid syntax (3334350436.py, line 1)",
     "output_type": "error",
     "traceback": [
      "\u001b[1;36m  Input \u001b[1;32mIn [203]\u001b[1;36m\u001b[0m\n\u001b[1;33m    import writer from csv\u001b[0m\n\u001b[1;37m                  ^\u001b[0m\n\u001b[1;31mSyntaxError\u001b[0m\u001b[1;31m:\u001b[0m invalid syntax\n"
     ]
    }
   ],
   "source": [
    "\n",
    "data = [['mylife wildlife tourist']]\n",
    "  \n",
    " writer = csv.DictWriter(file, fieldnames ='tags')"
   ]
  },
  {
   "cell_type": "code",
   "execution_count": 206,
   "id": "a2c1ea7c",
   "metadata": {},
   "outputs": [
    {
     "name": "stderr",
     "output_type": "stream",
     "text": [
      "C:\\Users\\nikhi\\AppData\\Local\\Temp\\ipykernel_11036\\909545969.py:3: FutureWarning: The series.append method is deprecated and will be removed from pandas in a future version. Use pandas.concat instead.\n",
      "  gh = gh.append(df2, ignore_index = True)\n"
     ]
    },
    {
     "ename": "TypeError",
     "evalue": "cannot concatenate object of type '<class 'dict'>'; only Series and DataFrame objs are valid",
     "output_type": "error",
     "traceback": [
      "\u001b[1;31m---------------------------------------------------------------------------\u001b[0m",
      "\u001b[1;31mTypeError\u001b[0m                                 Traceback (most recent call last)",
      "Input \u001b[1;32mIn [206]\u001b[0m, in \u001b[0;36m<cell line: 3>\u001b[1;34m()\u001b[0m\n\u001b[0;32m      1\u001b[0m df2 \u001b[38;5;241m=\u001b[39m {\u001b[38;5;124m'\u001b[39m\u001b[38;5;124mtags\u001b[39m\u001b[38;5;124m'\u001b[39m: \u001b[38;5;124m'\u001b[39m\u001b[38;5;124mVikram\u001b[39m\u001b[38;5;124m'\u001b[39m}\n\u001b[1;32m----> 3\u001b[0m gh \u001b[38;5;241m=\u001b[39m \u001b[43mgh\u001b[49m\u001b[38;5;241;43m.\u001b[39;49m\u001b[43mappend\u001b[49m\u001b[43m(\u001b[49m\u001b[43mdf2\u001b[49m\u001b[43m,\u001b[49m\u001b[43m \u001b[49m\u001b[43mignore_index\u001b[49m\u001b[43m \u001b[49m\u001b[38;5;241;43m=\u001b[39;49m\u001b[43m \u001b[49m\u001b[38;5;28;43;01mTrue\u001b[39;49;00m\u001b[43m)\u001b[49m\n\u001b[0;32m      5\u001b[0m gh\n",
      "File \u001b[1;32mE:\\set_install\\python_installation\\lib\\site-packages\\pandas\\core\\series.py:2934\u001b[0m, in \u001b[0;36mSeries.append\u001b[1;34m(self, to_append, ignore_index, verify_integrity)\u001b[0m\n\u001b[0;32m   2853\u001b[0m \u001b[38;5;124;03m\"\"\"\u001b[39;00m\n\u001b[0;32m   2854\u001b[0m \u001b[38;5;124;03mConcatenate two or more Series.\u001b[39;00m\n\u001b[0;32m   2855\u001b[0m \n\u001b[1;32m   (...)\u001b[0m\n\u001b[0;32m   2924\u001b[0m \u001b[38;5;124;03mValueError: Indexes have overlapping values: [0, 1, 2]\u001b[39;00m\n\u001b[0;32m   2925\u001b[0m \u001b[38;5;124;03m\"\"\"\u001b[39;00m\n\u001b[0;32m   2926\u001b[0m warnings\u001b[38;5;241m.\u001b[39mwarn(\n\u001b[0;32m   2927\u001b[0m     \u001b[38;5;124m\"\u001b[39m\u001b[38;5;124mThe series.append method is deprecated \u001b[39m\u001b[38;5;124m\"\u001b[39m\n\u001b[0;32m   2928\u001b[0m     \u001b[38;5;124m\"\u001b[39m\u001b[38;5;124mand will be removed from pandas in a future version. \u001b[39m\u001b[38;5;124m\"\u001b[39m\n\u001b[1;32m   (...)\u001b[0m\n\u001b[0;32m   2931\u001b[0m     stacklevel\u001b[38;5;241m=\u001b[39mfind_stack_level(),\n\u001b[0;32m   2932\u001b[0m )\n\u001b[1;32m-> 2934\u001b[0m \u001b[38;5;28;01mreturn\u001b[39;00m \u001b[38;5;28;43mself\u001b[39;49m\u001b[38;5;241;43m.\u001b[39;49m\u001b[43m_append\u001b[49m\u001b[43m(\u001b[49m\u001b[43mto_append\u001b[49m\u001b[43m,\u001b[49m\u001b[43m \u001b[49m\u001b[43mignore_index\u001b[49m\u001b[43m,\u001b[49m\u001b[43m \u001b[49m\u001b[43mverify_integrity\u001b[49m\u001b[43m)\u001b[49m\n",
      "File \u001b[1;32mE:\\set_install\\python_installation\\lib\\site-packages\\pandas\\core\\series.py:2949\u001b[0m, in \u001b[0;36mSeries._append\u001b[1;34m(self, to_append, ignore_index, verify_integrity)\u001b[0m\n\u001b[0;32m   2947\u001b[0m     msg \u001b[38;5;241m=\u001b[39m \u001b[38;5;124m\"\u001b[39m\u001b[38;5;124mto_append should be a Series or list/tuple of Series, got DataFrame\u001b[39m\u001b[38;5;124m\"\u001b[39m\n\u001b[0;32m   2948\u001b[0m     \u001b[38;5;28;01mraise\u001b[39;00m \u001b[38;5;167;01mTypeError\u001b[39;00m(msg)\n\u001b[1;32m-> 2949\u001b[0m \u001b[38;5;28;01mreturn\u001b[39;00m \u001b[43mconcat\u001b[49m\u001b[43m(\u001b[49m\n\u001b[0;32m   2950\u001b[0m \u001b[43m    \u001b[49m\u001b[43mto_concat\u001b[49m\u001b[43m,\u001b[49m\u001b[43m \u001b[49m\u001b[43mignore_index\u001b[49m\u001b[38;5;241;43m=\u001b[39;49m\u001b[43mignore_index\u001b[49m\u001b[43m,\u001b[49m\u001b[43m \u001b[49m\u001b[43mverify_integrity\u001b[49m\u001b[38;5;241;43m=\u001b[39;49m\u001b[43mverify_integrity\u001b[49m\n\u001b[0;32m   2951\u001b[0m \u001b[43m\u001b[49m\u001b[43m)\u001b[49m\n",
      "File \u001b[1;32mE:\\set_install\\python_installation\\lib\\site-packages\\pandas\\util\\_decorators.py:311\u001b[0m, in \u001b[0;36mdeprecate_nonkeyword_arguments.<locals>.decorate.<locals>.wrapper\u001b[1;34m(*args, **kwargs)\u001b[0m\n\u001b[0;32m    305\u001b[0m \u001b[38;5;28;01mif\u001b[39;00m \u001b[38;5;28mlen\u001b[39m(args) \u001b[38;5;241m>\u001b[39m num_allow_args:\n\u001b[0;32m    306\u001b[0m     warnings\u001b[38;5;241m.\u001b[39mwarn(\n\u001b[0;32m    307\u001b[0m         msg\u001b[38;5;241m.\u001b[39mformat(arguments\u001b[38;5;241m=\u001b[39marguments),\n\u001b[0;32m    308\u001b[0m         \u001b[38;5;167;01mFutureWarning\u001b[39;00m,\n\u001b[0;32m    309\u001b[0m         stacklevel\u001b[38;5;241m=\u001b[39mstacklevel,\n\u001b[0;32m    310\u001b[0m     )\n\u001b[1;32m--> 311\u001b[0m \u001b[38;5;28;01mreturn\u001b[39;00m func(\u001b[38;5;241m*\u001b[39margs, \u001b[38;5;241m*\u001b[39m\u001b[38;5;241m*\u001b[39mkwargs)\n",
      "File \u001b[1;32mE:\\set_install\\python_installation\\lib\\site-packages\\pandas\\core\\reshape\\concat.py:346\u001b[0m, in \u001b[0;36mconcat\u001b[1;34m(objs, axis, join, ignore_index, keys, levels, names, verify_integrity, sort, copy)\u001b[0m\n\u001b[0;32m    142\u001b[0m \u001b[38;5;129m@deprecate_nonkeyword_arguments\u001b[39m(version\u001b[38;5;241m=\u001b[39m\u001b[38;5;28;01mNone\u001b[39;00m, allowed_args\u001b[38;5;241m=\u001b[39m[\u001b[38;5;124m\"\u001b[39m\u001b[38;5;124mobjs\u001b[39m\u001b[38;5;124m\"\u001b[39m])\n\u001b[0;32m    143\u001b[0m \u001b[38;5;28;01mdef\u001b[39;00m \u001b[38;5;21mconcat\u001b[39m(\n\u001b[0;32m    144\u001b[0m     objs: Iterable[NDFrame] \u001b[38;5;241m|\u001b[39m Mapping[Hashable, NDFrame],\n\u001b[1;32m   (...)\u001b[0m\n\u001b[0;32m    153\u001b[0m     copy: \u001b[38;5;28mbool\u001b[39m \u001b[38;5;241m=\u001b[39m \u001b[38;5;28;01mTrue\u001b[39;00m,\n\u001b[0;32m    154\u001b[0m ) \u001b[38;5;241m-\u001b[39m\u001b[38;5;241m>\u001b[39m DataFrame \u001b[38;5;241m|\u001b[39m Series:\n\u001b[0;32m    155\u001b[0m     \u001b[38;5;124;03m\"\"\"\u001b[39;00m\n\u001b[0;32m    156\u001b[0m \u001b[38;5;124;03m    Concatenate pandas objects along a particular axis with optional set logic\u001b[39;00m\n\u001b[0;32m    157\u001b[0m \u001b[38;5;124;03m    along the other axes.\u001b[39;00m\n\u001b[1;32m   (...)\u001b[0m\n\u001b[0;32m    344\u001b[0m \u001b[38;5;124;03m    ValueError: Indexes have overlapping values: ['a']\u001b[39;00m\n\u001b[0;32m    345\u001b[0m \u001b[38;5;124;03m    \"\"\"\u001b[39;00m\n\u001b[1;32m--> 346\u001b[0m     op \u001b[38;5;241m=\u001b[39m \u001b[43m_Concatenator\u001b[49m\u001b[43m(\u001b[49m\n\u001b[0;32m    347\u001b[0m \u001b[43m        \u001b[49m\u001b[43mobjs\u001b[49m\u001b[43m,\u001b[49m\n\u001b[0;32m    348\u001b[0m \u001b[43m        \u001b[49m\u001b[43maxis\u001b[49m\u001b[38;5;241;43m=\u001b[39;49m\u001b[43maxis\u001b[49m\u001b[43m,\u001b[49m\n\u001b[0;32m    349\u001b[0m \u001b[43m        \u001b[49m\u001b[43mignore_index\u001b[49m\u001b[38;5;241;43m=\u001b[39;49m\u001b[43mignore_index\u001b[49m\u001b[43m,\u001b[49m\n\u001b[0;32m    350\u001b[0m \u001b[43m        \u001b[49m\u001b[43mjoin\u001b[49m\u001b[38;5;241;43m=\u001b[39;49m\u001b[43mjoin\u001b[49m\u001b[43m,\u001b[49m\n\u001b[0;32m    351\u001b[0m \u001b[43m        \u001b[49m\u001b[43mkeys\u001b[49m\u001b[38;5;241;43m=\u001b[39;49m\u001b[43mkeys\u001b[49m\u001b[43m,\u001b[49m\n\u001b[0;32m    352\u001b[0m \u001b[43m        \u001b[49m\u001b[43mlevels\u001b[49m\u001b[38;5;241;43m=\u001b[39;49m\u001b[43mlevels\u001b[49m\u001b[43m,\u001b[49m\n\u001b[0;32m    353\u001b[0m \u001b[43m        \u001b[49m\u001b[43mnames\u001b[49m\u001b[38;5;241;43m=\u001b[39;49m\u001b[43mnames\u001b[49m\u001b[43m,\u001b[49m\n\u001b[0;32m    354\u001b[0m \u001b[43m        \u001b[49m\u001b[43mverify_integrity\u001b[49m\u001b[38;5;241;43m=\u001b[39;49m\u001b[43mverify_integrity\u001b[49m\u001b[43m,\u001b[49m\n\u001b[0;32m    355\u001b[0m \u001b[43m        \u001b[49m\u001b[43mcopy\u001b[49m\u001b[38;5;241;43m=\u001b[39;49m\u001b[43mcopy\u001b[49m\u001b[43m,\u001b[49m\n\u001b[0;32m    356\u001b[0m \u001b[43m        \u001b[49m\u001b[43msort\u001b[49m\u001b[38;5;241;43m=\u001b[39;49m\u001b[43msort\u001b[49m\u001b[43m,\u001b[49m\n\u001b[0;32m    357\u001b[0m \u001b[43m    \u001b[49m\u001b[43m)\u001b[49m\n\u001b[0;32m    359\u001b[0m     \u001b[38;5;28;01mreturn\u001b[39;00m op\u001b[38;5;241m.\u001b[39mget_result()\n",
      "File \u001b[1;32mE:\\set_install\\python_installation\\lib\\site-packages\\pandas\\core\\reshape\\concat.py:436\u001b[0m, in \u001b[0;36m_Concatenator.__init__\u001b[1;34m(self, objs, axis, join, keys, levels, names, ignore_index, verify_integrity, copy, sort)\u001b[0m\n\u001b[0;32m    431\u001b[0m     \u001b[38;5;28;01mif\u001b[39;00m \u001b[38;5;129;01mnot\u001b[39;00m \u001b[38;5;28misinstance\u001b[39m(obj, (ABCSeries, ABCDataFrame)):\n\u001b[0;32m    432\u001b[0m         msg \u001b[38;5;241m=\u001b[39m (\n\u001b[0;32m    433\u001b[0m             \u001b[38;5;124mf\u001b[39m\u001b[38;5;124m\"\u001b[39m\u001b[38;5;124mcannot concatenate object of type \u001b[39m\u001b[38;5;124m'\u001b[39m\u001b[38;5;132;01m{\u001b[39;00m\u001b[38;5;28mtype\u001b[39m(obj)\u001b[38;5;132;01m}\u001b[39;00m\u001b[38;5;124m'\u001b[39m\u001b[38;5;124m; \u001b[39m\u001b[38;5;124m\"\u001b[39m\n\u001b[0;32m    434\u001b[0m             \u001b[38;5;124m\"\u001b[39m\u001b[38;5;124monly Series and DataFrame objs are valid\u001b[39m\u001b[38;5;124m\"\u001b[39m\n\u001b[0;32m    435\u001b[0m         )\n\u001b[1;32m--> 436\u001b[0m         \u001b[38;5;28;01mraise\u001b[39;00m \u001b[38;5;167;01mTypeError\u001b[39;00m(msg)\n\u001b[0;32m    438\u001b[0m     ndims\u001b[38;5;241m.\u001b[39madd(obj\u001b[38;5;241m.\u001b[39mndim)\n\u001b[0;32m    440\u001b[0m \u001b[38;5;66;03m# get the sample\u001b[39;00m\n\u001b[0;32m    441\u001b[0m \u001b[38;5;66;03m# want the highest ndim that we have, and must be non-empty\u001b[39;00m\n\u001b[0;32m    442\u001b[0m \u001b[38;5;66;03m# unless all objs are empty\u001b[39;00m\n",
      "\u001b[1;31mTypeError\u001b[0m: cannot concatenate object of type '<class 'dict'>'; only Series and DataFrame objs are valid"
     ]
    }
   ],
   "source": [
    "df2 = {'tags': 'Vikram'}\n",
    "\n",
    "gh = gh.append(df2, ignore_index = True)\n",
    "\n",
    "gh\n"
   ]
  },
  {
   "cell_type": "code",
   "execution_count": 207,
   "id": "5273e115",
   "metadata": {},
   "outputs": [],
   "source": [
    "def Insert_row(row_number, df, row_value):\n",
    "    # Starting value of upper half\n",
    "    start_upper = 0\n",
    "  \n",
    "    # End value of upper half\n",
    "    end_upper = row_number\n",
    "  \n",
    "    # Start value of lower half\n",
    "    start_lower = row_number\n",
    "  \n",
    "    # End value of lower half\n",
    "    end_lower = df.shape[0]\n",
    "  \n",
    "    # Create a list of upper_half index\n",
    "    upper_half = [*range(start_upper, end_upper, 1)]\n",
    "  \n",
    "    # Create a list of lower_half index\n",
    "    lower_half = [*range(start_lower, end_lower, 1)]\n",
    "  \n",
    "    # Increment the value of lower half by 1\n",
    "    lower_half = [x.__add__(1) for x in lower_half]\n",
    "  \n",
    "    # Combine the two lists\n",
    "    index_ = upper_half + lower_half\n",
    "  \n",
    "    # Update the index of the dataframe\n",
    "    df.index = index_\n",
    "  \n",
    "    # Insert a row at the end\n",
    "    df.loc[row_number] = row_value\n",
    "   \n",
    "    # Sort the index labels\n",
    "    df = df.sort_index()\n",
    "  \n",
    "    # return the dataframe\n",
    "    return df"
   ]
  },
  {
   "cell_type": "code",
   "execution_count": 208,
   "id": "c38629b1",
   "metadata": {},
   "outputs": [
    {
     "data": {
      "text/plain": [
       "0     History and CultureMuseumLocal ExperiencesScen...\n",
       "1     History and CultureMuseumLocal ExperiencesScen...\n",
       "2     History and CultureMuseum---wildlifewildlifeopopo\n",
       "3     History and Culture-Local ExperiencesScenic-wi...\n",
       "4     MuseumHistory and CultureScenic--wildlifewildl...\n",
       "                            ...                        \n",
       "67    Religious--Shows and Concerts-wildlifewildlife...\n",
       "68      ShoppingFood and Drinks---wildlifewildlifeopopo\n",
       "69                                                himyr\n",
       "70      AdventureScenicReligious--wildlifewildlifeopopo\n",
       "71    AdventureScenic--Local Experienceswildlifewild...\n",
       "Name: tags, Length: 72, dtype: object"
      ]
     },
     "execution_count": 208,
     "metadata": {},
     "output_type": "execute_result"
    }
   ],
   "source": [
    "Insert_row(69,gh,\"himyr\")"
   ]
  },
  {
   "cell_type": "code",
   "execution_count": 172,
   "id": "6122f216",
   "metadata": {},
   "outputs": [
    {
     "ename": "NameError",
     "evalue": "name 'tokenizer' is not defined",
     "output_type": "error",
     "traceback": [
      "\u001b[1;31m---------------------------------------------------------------------------\u001b[0m",
      "\u001b[1;31mNameError\u001b[0m                                 Traceback (most recent call last)",
      "Input \u001b[1;32mIn [172]\u001b[0m, in \u001b[0;36m<cell line: 4>\u001b[1;34m()\u001b[0m\n\u001b[0;32m      2\u001b[0m test_sentence\u001b[38;5;241m=\u001b[39m\u001b[38;5;124m\"\u001b[39m\u001b[38;5;124mmuseum wildlife\u001b[39m\u001b[38;5;124m\"\u001b[39m\n\u001b[0;32m      3\u001b[0m tfidf_mat \u001b[38;5;241m=\u001b[39m cv\u001b[38;5;241m.\u001b[39mfit_transform(\u001b[38;5;28mtype\u001b[39m[\u001b[38;5;124m'\u001b[39m\u001b[38;5;124mtags\u001b[39m\u001b[38;5;124m'\u001b[39m]\u001b[38;5;241m.\u001b[39mvalues)\n\u001b[1;32m----> 4\u001b[0m best_index \u001b[38;5;241m=\u001b[39m \u001b[43mget_recommendations_tfidf\u001b[49m\u001b[43m(\u001b[49m\u001b[43mtest_sentence\u001b[49m\u001b[43m,\u001b[49m\u001b[43m \u001b[49m\u001b[43mtfidf_mat\u001b[49m\u001b[43m)\u001b[49m\n\u001b[0;32m      6\u001b[0m display(df[[\u001b[38;5;124m'\u001b[39m\u001b[38;5;124moriginal_title\u001b[39m\u001b[38;5;124m'\u001b[39m, \u001b[38;5;124m'\u001b[39m\u001b[38;5;124mgenres\u001b[39m\u001b[38;5;124m'\u001b[39m, \u001b[38;5;124m'\u001b[39m\u001b[38;5;124msentence\u001b[39m\u001b[38;5;124m'\u001b[39m]]\u001b[38;5;241m.\u001b[39miloc[best_index])\n",
      "Input \u001b[1;32mIn [159]\u001b[0m, in \u001b[0;36mget_recommendations_tfidf\u001b[1;34m(sentence, tfidf_mat)\u001b[0m\n\u001b[0;32m      3\u001b[0m \u001b[38;5;124;03m\"\"\"\u001b[39;00m\n\u001b[0;32m      4\u001b[0m \u001b[38;5;124;03mReturn the database sentences in order of highest cosine similarity relatively to each \u001b[39;00m\n\u001b[0;32m      5\u001b[0m \u001b[38;5;124;03mtoken of the target sentence. \u001b[39;00m\n\u001b[0;32m      6\u001b[0m \u001b[38;5;124;03m\"\"\"\u001b[39;00m\n\u001b[0;32m      7\u001b[0m \u001b[38;5;66;03m# Embed the query sentence\u001b[39;00m\n\u001b[1;32m----> 8\u001b[0m tokens_query \u001b[38;5;241m=\u001b[39m [\u001b[38;5;28mstr\u001b[39m(tok) \u001b[38;5;28;01mfor\u001b[39;00m tok \u001b[38;5;129;01min\u001b[39;00m \u001b[43mtokenizer\u001b[49m(sentence)]\n\u001b[0;32m      9\u001b[0m embed_query \u001b[38;5;241m=\u001b[39m vectorizer\u001b[38;5;241m.\u001b[39mtransform(tokens_query)\n\u001b[0;32m     10\u001b[0m \u001b[38;5;66;03m# Create list with similarity between query and dataset\u001b[39;00m\n",
      "\u001b[1;31mNameError\u001b[0m: name 'tokenizer' is not defined"
     ]
    }
   ],
   "source": [
    "\n"
   ]
  },
  {
   "cell_type": "code",
   "execution_count": null,
   "id": "c188a770",
   "metadata": {},
   "outputs": [],
   "source": []
  },
  {
   "cell_type": "code",
   "execution_count": null,
   "id": "e7b2caaf",
   "metadata": {},
   "outputs": [],
   "source": []
  }
 ],
 "metadata": {
  "kernelspec": {
   "display_name": "Python 3 (ipykernel)",
   "language": "python",
   "name": "python3"
  },
  "language_info": {
   "codemirror_mode": {
    "name": "ipython",
    "version": 3
   },
   "file_extension": ".py",
   "mimetype": "text/x-python",
   "name": "python",
   "nbconvert_exporter": "python",
   "pygments_lexer": "ipython3",
   "version": "3.10.2"
  }
 },
 "nbformat": 4,
 "nbformat_minor": 5
}
