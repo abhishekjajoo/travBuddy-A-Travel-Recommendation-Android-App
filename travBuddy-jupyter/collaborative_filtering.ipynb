{
 "cells": [
  {
   "cell_type": "code",
   "execution_count": 2,
   "id": "a6dc57c5",
   "metadata": {},
   "outputs": [],
   "source": [
    "import numpy as np\n",
    "import pandas as pd"
   ]
  },
  {
   "cell_type": "code",
   "execution_count": 5,
   "id": "e9a940ed",
   "metadata": {},
   "outputs": [],
   "source": [
    "type=pd.read_csv(\"types.csv\")\n",
    "uid=pd.read_csv(\"data_user.csv\")\n",
    "ur=pd.read_csv(\"ur.csv\")"
   ]
  },
  {
   "cell_type": "code",
   "execution_count": 13,
   "id": "54410af8",
   "metadata": {
    "scrolled": true
   },
   "outputs": [],
   "source": [
    "type=type[['PID','POIs']]"
   ]
  },
  {
   "cell_type": "markdown",
   "id": "5bd916dd",
   "metadata": {},
   "source": [
    "# will change this accordingly\n"
   ]
  },
  {
   "cell_type": "code",
   "execution_count": 37,
   "id": "100add93",
   "metadata": {},
   "outputs": [],
   "source": [
    "x=ur['user_id'].value_counts()>1\n"
   ]
  },
  {
   "cell_type": "code",
   "execution_count": 38,
   "id": "8a1586a4",
   "metadata": {},
   "outputs": [
    {
     "data": {
      "text/plain": [
       "<bound method NDFrame.head of 1     True\n",
       "5     True\n",
       "2     True\n",
       "4     True\n",
       "3    False\n",
       "Name: user_id, dtype: bool>"
      ]
     },
     "execution_count": 38,
     "metadata": {},
     "output_type": "execute_result"
    }
   ],
   "source": [
    "x.head"
   ]
  },
  {
   "cell_type": "code",
   "execution_count": 43,
   "id": "a5f03a34",
   "metadata": {},
   "outputs": [],
   "source": [
    "y=x[x].index"
   ]
  },
  {
   "cell_type": "code",
   "execution_count": 45,
   "id": "db59e8db",
   "metadata": {},
   "outputs": [
    {
     "data": {
      "text/plain": [
       "Int64Index([1, 5, 2, 4], dtype='int64')"
      ]
     },
     "execution_count": 45,
     "metadata": {},
     "output_type": "execute_result"
    }
   ],
   "source": [
    "y"
   ]
  },
  {
   "cell_type": "code",
   "execution_count": 48,
   "id": "cf75aeae",
   "metadata": {},
   "outputs": [],
   "source": [
    "ur=ur[ur['user_id'].isin(y)]"
   ]
  },
  {
   "cell_type": "code",
   "execution_count": 50,
   "id": "5713905c",
   "metadata": {},
   "outputs": [
    {
     "data": {
      "text/plain": [
       "<bound method NDFrame.head of     user_id                       POIs  rating\n",
       "0         1                 RAJ MANDIR       3\n",
       "1         1              STATUE CIRCLE       1\n",
       "2         1  CENTRAL PARK JAIPUR INDIA       3\n",
       "3         2                 HAWA MAHAL       5\n",
       "4         2              STATUE CIRCLE       1\n",
       "6         4  CENTRAL PARK JAIPUR INDIA       5\n",
       "7         4              STATUE CIRCLE       3\n",
       "8         5  CENTRAL PARK JAIPUR INDIA       2\n",
       "9         5                 RAJ MANDIR       3\n",
       "10        5                 HAWA MAHAL       3>"
      ]
     },
     "execution_count": 50,
     "metadata": {},
     "output_type": "execute_result"
    }
   ],
   "source": [
    "ur.head"
   ]
  },
  {
   "cell_type": "code",
   "execution_count": 56,
   "id": "813b418a",
   "metadata": {},
   "outputs": [],
   "source": [
    "rwp=ur.merge(type,on='POIs')\n"
   ]
  },
  {
   "cell_type": "code",
   "execution_count": 58,
   "id": "d70a678c",
   "metadata": {
    "scrolled": true
   },
   "outputs": [
    {
     "data": {
      "text/plain": [
       "<bound method NDFrame.head of    user_id                       POIs  rating    PID\n",
       "0        1                 RAJ MANDIR       3  POI26\n",
       "1        5                 RAJ MANDIR       3  POI26\n",
       "2        1              STATUE CIRCLE       1  POI18\n",
       "3        2              STATUE CIRCLE       1  POI18\n",
       "4        4              STATUE CIRCLE       3  POI18\n",
       "5        1  CENTRAL PARK JAIPUR INDIA       3  POI12\n",
       "6        4  CENTRAL PARK JAIPUR INDIA       5  POI12\n",
       "7        5  CENTRAL PARK JAIPUR INDIA       2  POI12\n",
       "8        2                 HAWA MAHAL       5   POI4\n",
       "9        5                 HAWA MAHAL       3   POI4>"
      ]
     },
     "execution_count": 58,
     "metadata": {},
     "output_type": "execute_result"
    }
   ],
   "source": [
    "rwp.head"
   ]
  },
  {
   "cell_type": "code",
   "execution_count": 60,
   "id": "190bc136",
   "metadata": {},
   "outputs": [
    {
     "data": {
      "text/plain": [
       "(10, 4)"
      ]
     },
     "execution_count": 60,
     "metadata": {},
     "output_type": "execute_result"
    }
   ],
   "source": [
    "rwp.shape"
   ]
  },
  {
   "cell_type": "code",
   "execution_count": 62,
   "id": "40c0361f",
   "metadata": {},
   "outputs": [
    {
     "data": {
      "text/html": [
       "<div>\n",
       "<style scoped>\n",
       "    .dataframe tbody tr th:only-of-type {\n",
       "        vertical-align: middle;\n",
       "    }\n",
       "\n",
       "    .dataframe tbody tr th {\n",
       "        vertical-align: top;\n",
       "    }\n",
       "\n",
       "    .dataframe thead th {\n",
       "        text-align: right;\n",
       "    }\n",
       "</style>\n",
       "<table border=\"1\" class=\"dataframe\">\n",
       "  <thead>\n",
       "    <tr style=\"text-align: right;\">\n",
       "      <th></th>\n",
       "      <th>POIs</th>\n",
       "      <th>rating</th>\n",
       "    </tr>\n",
       "  </thead>\n",
       "  <tbody>\n",
       "    <tr>\n",
       "      <th>0</th>\n",
       "      <td>CENTRAL PARK JAIPUR INDIA</td>\n",
       "      <td>3</td>\n",
       "    </tr>\n",
       "    <tr>\n",
       "      <th>1</th>\n",
       "      <td>HAWA MAHAL</td>\n",
       "      <td>2</td>\n",
       "    </tr>\n",
       "    <tr>\n",
       "      <th>2</th>\n",
       "      <td>RAJ MANDIR</td>\n",
       "      <td>2</td>\n",
       "    </tr>\n",
       "    <tr>\n",
       "      <th>3</th>\n",
       "      <td>STATUE CIRCLE</td>\n",
       "      <td>3</td>\n",
       "    </tr>\n",
       "  </tbody>\n",
       "</table>\n",
       "</div>"
      ],
      "text/plain": [
       "                        POIs  rating\n",
       "0  CENTRAL PARK JAIPUR INDIA       3\n",
       "1                 HAWA MAHAL       2\n",
       "2                 RAJ MANDIR       2\n",
       "3              STATUE CIRCLE       3"
      ]
     },
     "execution_count": 62,
     "metadata": {},
     "output_type": "execute_result"
    }
   ],
   "source": [
    "rwp.groupby('POIs')['rating'].count().reset_index()"
   ]
  }
 ],
 "metadata": {
  "kernelspec": {
   "display_name": "Python 3 (ipykernel)",
   "language": "python",
   "name": "python3"
  },
  "language_info": {
   "codemirror_mode": {
    "name": "ipython",
    "version": 3
   },
   "file_extension": ".py",
   "mimetype": "text/x-python",
   "name": "python",
   "nbconvert_exporter": "python",
   "pygments_lexer": "ipython3",
   "version": "3.10.2"
  }
 },
 "nbformat": 4,
 "nbformat_minor": 5
}
